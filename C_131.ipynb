{
  "nbformat": 4,
  "nbformat_minor": 0,
  "metadata": {
    "colab": {
      "provenance": [],
      "include_colab_link": true
    },
    "kernelspec": {
      "name": "python3",
      "display_name": "Python 3"
    }
  },
  "cells": [
    {
      "cell_type": "markdown",
      "metadata": {
        "id": "view-in-github",
        "colab_type": "text"
      },
      "source": [
        "<a href=\"https://colab.research.google.com/github/Xander50/C-131/blob/main/C_131.ipynb\" target=\"_parent\"><img src=\"https://colab.research.google.com/assets/colab-badge.svg\" alt=\"Open In Colab\"/></a>"
      ]
    },
    {
      "cell_type": "markdown",
      "metadata": {
        "id": "91Qy7NHjj09q"
      },
      "source": [
        "## Exploring Solar Systems with Statistics\n",
        "\n",
        "In today's class, we will plot a few graphs and apply statistics to the data we have! We will also try to find some interesting insights about different solar systems.\n",
        "\n",
        "\\\n",
        "Before we do that, let us recall the fields that are left in the CSV -\n",
        "\n",
        "*   ***name*** - name of the planet\n",
        "*   ***light_years_from_earth*** - Distance of the exo-planet from earth in light years\n",
        "*   ***planet_mass*** - Mass of the planet\n",
        "*   ***stellar_magnitude*** - This is the brightness of the host star of the planet when observed from Earth (just as the sun is our host star)\n",
        "*   ***discovery_date*** - This is the year of discovery for the exo-planet\n",
        "*   ***planet_type*** - This is the type of the planet (Gas Giant, Super Earth, etc.)\n",
        "*   ***planet_radius*** - This is the radius of the exo-planet with respect to Earth or Jupiter.\n",
        "*   ***orbital_radius*** - This is the average distance of this exo-planet from its sun. Just like our solar system has 1 sun, there are multiple solar systems that contain many planets and sun(s)\n",
        "*   ***orbital_period*** - This is the time it takes to complete one orbit of it’s sun\n",
        "*   ***eccentricity*** - This denotes how circular the orbit is. It might be oval in shape too. The lower the eccentricity, the more circular is the orbit\n",
        "*   ***solar_system_name*** - The name of the host solar system\n",
        "*   ***planet_discovery_method*** - This is the discovery method which was used to find this exo-planet\n",
        "*   ***planet_orbital_inclination*** - This is the orbital inclination, which means that it is the tilt of the exo-planet’s orbit when it revolves around its sun\n",
        "*   ***planet_density*** - This is the density of the planet\n",
        "*   ***right_ascension*** - This is the right ascension of the planetary system, which is the east-west coordinate by which the position of this planet is measured\n",
        "*   ***declination*** - This is the north-south coordinate by which the position of the planet is measured\n",
        "*   ***host_temperature*** - This is the temperature of the host star in Kelvin\n",
        "*   ***host_mass*** - This is the amount of mass contained in the host star\n",
        "*   ***host_radius*** - This is the radius of the host star\n",
        "\n",
        "\\\n",
        "Great! Now since we already know that we have 8 planets in our solar system, let's see if we can find out if there are any similar solar systems like us in the universe by seeing how many planets are there in the other solar systems.\n",
        "\n",
        "\n",
        "For this, we have a column known as ***solar_system_name*** in our CSV. Using this, we can create a dictionary to maintain the count of planets each solar system has!\n",
        "\n",
        "Before we write any code for this, let's just upload the CSV to our Colab first!\n",
        "\n",
        "\n",
        "\n",
        "\n",
        "\n",
        "\n",
        "\n",
        "\n",
        "\n",
        "\n",
        "\n",
        "\n",
        "\n",
        "\n",
        "\n",
        "\n",
        "\n",
        "\n",
        "\n",
        "\n",
        "\n"
      ]
    },
    {
      "cell_type": "code",
      "source": [
        "!git clone https://github.com/procodingclass/PRO-NASA-Exoplanet-Processed-Data.git"
      ],
      "metadata": {
        "colab": {
          "base_uri": "https://localhost:8080/"
        },
        "id": "Yq-OxebmQZmB",
        "outputId": "76a2b183-18f0-498f-dbdf-2d6b8f2b29d5"
      },
      "execution_count": null,
      "outputs": [
        {
          "output_type": "stream",
          "name": "stdout",
          "text": [
            "Cloning into 'PRO-NASA-Exoplanet-Processed-Data'...\n",
            "remote: Enumerating objects: 9, done.\u001b[K\n",
            "remote: Counting objects: 100% (9/9), done.\u001b[K\n",
            "remote: Compressing objects: 100% (7/7), done.\u001b[K\n",
            "remote: Total 9 (delta 0), reused 6 (delta 0), pack-reused 0\u001b[K\n",
            "Unpacking objects: 100% (9/9), 684.47 KiB | 4.03 MiB/s, done.\n"
          ]
        }
      ]
    },
    {
      "cell_type": "code",
      "source": [
        "import csv \n",
        "rows=[]\n",
        "with open(\"/content/PRO-NASA-Exoplanet-Processed-Data/main.csv\",\"r\") as f:\n",
        "  csvreader=csv.reader(f)\n",
        "  for row in csvreader:\n",
        "    rows.append(row)\n",
        "\n",
        "\n",
        "headers=rows[0]\n",
        "planet_data_rows=rows[1:]\n",
        "print(headers)\n",
        "print(planet_data_rows[0])"
      ],
      "metadata": {
        "id": "p8qYoqlY1tZj",
        "outputId": "4d7ab852-a344-4f95-9e35-efcf81b38433",
        "colab": {
          "base_uri": "https://localhost:8080/"
        }
      },
      "execution_count": null,
      "outputs": [
        {
          "output_type": "stream",
          "name": "stdout",
          "text": [
            "['id', 'name', 'light_years_from_earth', 'planet_mass', 'stellar_magnitude', 'discovery_date', 'planet_type', 'planet_radius', 'orbital_radius', 'orbital_period', 'eccentricity', 'solar_system_name', 'planet_discovery_method', 'planet_orbital_inclination', 'planet_density', 'right_ascension', 'declination', 'host_temperature', 'host_mass', 'host_radius']\n",
            "['0', '11 Comae Berenices b', '305', '19.4 Jupiters', '4.74', '2007', 'Gas Giant', '1.08 x Jupiter', '1.29 AU', '326 days', '0.23', '11 Com', 'Radial Velocity', '', '', '12h20m43.03s', '+17d47m34.3s', '4742', '2.7', '19']\n"
          ]
        }
      ]
    },
    {
      "cell_type": "code",
      "source": [
        "solar_system_planet_count={}\n",
        "for planet_data in planet_data_rows:\n",
        "  if solar_system_planet_count.get(planet_data[11]):\n",
        "    solar_system_planet_count[planet_data[11]]+=1\n",
        "  else:\n",
        "    solar_system_planet_count[planet_data[11]]=1\n",
        "print(solar_system_planet_count)"
      ],
      "metadata": {
        "id": "KY8BQQmX27lq",
        "outputId": "db474f8b-ee1b-4a87-d3aa-9620f6248c89",
        "colab": {
          "base_uri": "https://localhost:8080/"
        }
      },
      "execution_count": null,
      "outputs": [
        {
          "output_type": "stream",
          "name": "stdout",
          "text": [
            "{'11 Com': 1, '11 UMi': 1, '14 And': 1, '14 Her': 1, '16 Cyg B': 1, '18 Del': 1, '1RXS J160929.1-210524': 1, '24 Boo': 1, '24 Sex': 2, '2MASS J01033563-5515561 A': 1, '2MASS J01225093-2439505': 1, '2MASS J02192210-3925225': 1, '2MASS J04414489+2301513': 1, '2MASS J12073346-3932539': 1, '2MASS J19383260+4603591': 1, '2MASS J21402931+1625183 A': 1, '2MASS J22362452+4751425': 1, '30 Ari B': 1, '4 UMa': 1, '42 Dra': 1, '47 UMa': 3, '51 Eri': 1, '51 Peg': 1, '55 Cnc': 5, '6 Lyn': 1, '61 Vir': 3, '7 CMa': 2, '70 Vir': 1, '75 Cet': 1, '8 UMi': 1, '81 Cet': 1, '91 Aqr': 1, 'AB Pic': 1, 'alf Ari': 1, 'alf Tau': 1, 'AU Mic': 1, 'BD+03 2562': 1, 'BD+14 4559': 1, 'BD+15 2375': 1, 'BD+15 2940': 1, 'BD+20 2457': 2, 'BD+20 274': 1, 'BD+20 594': 1, 'BD+48 738': 1, 'BD+48 740': 1, 'BD+49 828': 1, 'BD-06 1339': 2, 'BD-08 2823': 2, 'BD-10 3166': 1, 'BD-11 4672': 2, 'BD-13 2130': 1, 'BD-17 63': 1, 'bet Cnc': 1, 'bet Pic': 2, 'bet UMi': 1, 'CFBDSIR J145829+101343': 1, 'CHXR 73': 1, 'CI Tau': 1, 'CoRoT-1': 1, 'CoRoT-10': 1, 'CoRoT-11': 1, 'CoRoT-12': 1, 'CoRoT-13': 1, 'CoRoT-14': 1, 'CoRoT-16': 1, 'CoRoT-17': 1, 'CoRoT-18': 1, 'CoRoT-19': 1, 'CoRoT-2': 1, 'CoRoT-20': 2, 'CoRoT-21': 1, 'CoRoT-22': 1, 'CoRoT-23': 1, 'CoRoT-24': 2, 'CoRoT-25': 1, 'CoRoT-26': 1, 'CoRoT-27': 1, 'CoRoT-28': 1, 'CoRoT-29': 1, 'CoRoT-3': 1, 'CoRoT-30': 1, 'CoRoT-31': 1, 'CoRoT-4': 1, 'CoRoT-5': 1, 'CoRoT-6': 1, 'CoRoT-7': 2, 'CoRoT-8': 1, 'CoRoT-9': 1, 'CoRoTID 223977153': 1, 'CT Cha': 1, 'DE CVn': 1, 'DENIS-P J082303.1-491201': 1, 'DH Tau': 1, 'DMPP-1': 4, 'DMPP-2': 1, 'DMPP-3 A': 1, 'DP Leo': 1, 'DS Tuc A': 1, 'EPIC 201238110': 1, 'EPIC 201497682': 1, 'K2-166': 2, 'K2-16': 3, 'K2-50': 2, 'EPIC 201841433': 1, 'K2-168': 2, 'EPIC 206024342': 1, 'EPIC 206032309': 1, 'EPIC 206042996': 1, 'EPIC 206215704': 1, 'EPIC 206317286': 1, 'EPIC 211822797': 1, 'EPIC 211945201': 1, 'EPIC 212297394': 1, 'EPIC 212424622': 1, 'EPIC 212499991': 1, 'EPIC 212587672': 1, 'EPIC 212737443': 2, 'K2-282': 2, 'EPIC 220674823': 2, 'EPIC 246851721': 1, 'EPIC 248847494': 1, 'EPIC 249893012': 3, 'eps CrB': 1, 'eps Eri': 1, 'eps Ind A': 1, 'eps Tau': 1, 'FU Tau': 1, 'G 9-40': 1, 'gam 1 Leo': 1, 'gam Cep': 1, 'gam Lib': 2, 'GJ 1061': 3, 'GJ 1132': 2, 'GJ 1148': 2, 'GJ 1214': 1, 'GJ 1252': 1, 'GJ 1265': 1, 'GJ 143': 2, 'GJ 15 A': 2, 'GJ 160.2': 1, 'GJ 163': 3, 'GJ 179': 1, 'GJ 180': 3, 'GJ 2056': 1, 'GJ 229': 2, 'GJ 27.1': 1, 'GJ 273': 2, 'GJ 3021': 1, 'GJ 3082': 1, 'GJ 3138': 3, 'GJ 317': 2, 'GJ 328': 1, 'GJ 3293': 4, 'GJ 3323': 2, 'GJ 3341': 1, 'GJ 338 B': 1, 'GJ 3470': 1, 'GJ 3512': 1, 'GJ 357': 3, 'GJ 3634': 1, 'GJ 3779': 1, 'GJ 3942': 1, 'GJ 3998': 2, 'GJ 411': 1, 'GJ 422': 1, 'GJ 4276': 1, 'GJ 433': 3, 'GJ 436': 1, 'GJ 480': 1, 'GJ 504': 1, 'GJ 536': 1, 'GJ 581': 3, 'GJ 625': 1, 'GJ 649': 1, 'GJ 667 C': 5, 'GJ 674': 1, 'GJ 676 A': 4, 'GJ 682': 2, 'GJ 685': 1, 'GJ 687': 2, 'GJ 832': 2, 'GJ 849': 1, 'GJ 86': 1, 'GJ 876': 4, 'GJ 887': 2, 'GJ 9066': 2, 'GJ 96': 1, 'GJ 9827': 3, 'Gl 378': 1, 'Gl 49': 1, 'Gl 686': 1, 'GQ Lup': 1, 'GSC 06214-00210': 1, 'GU Psc': 1, 'HAT-P-1': 1, 'HAT-P-11': 2, 'HAT-P-12': 1, 'HAT-P-13': 2, 'HAT-P-14': 1, 'HAT-P-15': 1, 'HAT-P-16': 1, 'HAT-P-17': 2, 'HAT-P-18': 1, 'HAT-P-19': 1, 'HAT-P-2': 1, 'HAT-P-20': 1, 'HAT-P-21': 1, 'HAT-P-22': 1, 'HAT-P-23': 1, 'HAT-P-24': 1, 'HAT-P-25': 1, 'HAT-P-26': 1, 'HAT-P-27': 1, 'HAT-P-28': 1, 'HAT-P-29': 1, 'HAT-P-3': 1, 'HAT-P-30': 1, 'HAT-P-31': 1, 'HAT-P-32': 1, 'HAT-P-33': 1, 'HAT-P-34': 1, 'HAT-P-35': 1, 'HAT-P-36': 1, 'HAT-P-37': 1, 'HAT-P-38': 1, 'HAT-P-39': 1, 'HAT-P-4': 1, 'HAT-P-40': 1, 'HAT-P-41': 1, 'HAT-P-42': 1, 'HAT-P-43': 1, 'HAT-P-44': 2, 'HAT-P-45': 1, 'HAT-P-46': 1, 'HAT-P-49': 1, 'HAT-P-5': 1, 'HAT-P-50': 1, 'HAT-P-51': 1, 'HAT-P-52': 1, 'HAT-P-53': 1, 'HAT-P-54': 1, 'HAT-P-55': 1, 'HAT-P-56': 1, 'HAT-P-57': 1, 'HAT-P-6': 1, 'HAT-P-65': 1, 'HAT-P-66': 1, 'HAT-P-67': 1, 'HAT-P-69': 1, 'HAT-P-7': 1, 'HAT-P-70': 1, 'HAT-P-8': 1, 'HAT-P-9': 1, 'HATS-1': 1, 'HATS-10': 1, 'HATS-11': 1, 'HATS-12': 1, 'HATS-13': 1, 'HATS-14': 1, 'HATS-15': 1, 'HATS-16': 1, 'HATS-17': 1, 'HATS-18': 1, 'HATS-2': 1, 'HATS-22': 1, 'HATS-23': 1, 'HATS-24': 1, 'HATS-25': 1, 'HATS-26': 1, 'HATS-27': 1, 'HATS-28': 1, 'HATS-29': 1, 'HATS-3': 1, 'HATS-30': 1, 'HATS-31': 1, 'HATS-32': 1, 'HATS-33': 1, 'HATS-34': 1, 'HATS-35': 1, 'HATS-36': 1, 'HATS-37 A': 1, 'HATS-38': 1, 'HATS-39': 1, 'HATS-4': 1, 'HATS-40': 1, 'HATS-41': 1, 'HATS-42': 1, 'HATS-43': 1, 'HATS-44': 1, 'HATS-45': 1, 'HATS-46': 1, 'HATS-47': 1, 'HATS-48 A': 1, 'HATS-49': 1, 'HATS-5': 1, 'HATS-50': 1, 'HATS-51': 1, 'HATS-52': 1, 'HATS-53': 1, 'HATS-54': 1, 'HATS-55': 1, 'HATS-56': 1, 'HATS-57': 1, 'HATS-58 A': 1, 'HATS-59': 2, 'HATS-6': 1, 'HATS-60': 1, 'HATS-61': 1, 'HATS-62': 1, 'HATS-63': 1, 'HATS-64': 1, 'HATS-65': 1, 'HATS-66': 1, 'HATS-67': 1, 'HATS-68': 1, 'HATS-69': 1, 'HATS-7': 1, 'HATS-70': 1, 'HATS-71': 1, 'HATS-72': 1, 'HATS-8': 1, 'HATS-9': 1, 'HD 100546': 1, 'HD 100655': 1, 'HD 100777': 1, 'HD 10180': 6, 'HD 101930': 1, 'HD 102117': 1, 'HD 102195': 1, 'HD 102272': 1, 'HD 102329': 2, 'HD 102365': 1, 'HD 102843': 1, 'HD 102956': 1, 'HD 103197': 1, 'HD 103720': 1, 'HD 103774': 1, 'HD 103949': 1, 'HD 104067': 1, 'HD 10442': 1, 'HD 104985': 1, 'HD 106252': 1, 'HD 106270': 1, 'HD 106315': 2, 'HD 10647': 1, 'HD 106515 A': 1, 'HD 106906': 1, 'HD 10697': 1, 'HD 107148': 1, 'HD 108147': 1, 'HD 108341': 1, 'HD 108863': 1, 'HD 108874': 2, 'HD 109246': 1, 'HD 109271': 2, 'HD 109749': 1, 'HD 110014': 1, 'HD 111232': 1, 'HD 111591': 1, 'HD 111998': 1, 'HD 113337': 1, 'HD 113538': 2, 'HD 113996': 1, 'HD 114386': 1, 'HD 114613': 1, 'HD 114729': 1, 'HD 114762': 1, 'HD 114783': 2, 'HD 11506': 2, 'HD 116029': 2, 'HD 117207': 1, 'HD 11755': 1, 'HD 117618': 1, 'HD 118203': 1, 'HD 11964': 2, 'HD 11977': 1, 'HD 120084': 1, 'HD 121504': 1, 'HD 12484': 1, 'HD 125390': 1, 'HD 125595': 1, 'HD 125612': 3, 'HD 12648': 1, 'HD 126525': 1, 'HD 12661': 2, 'HD 126614': 1, 'HD 128311': 2, 'HD 128356': 1, 'HD 129445': 1, 'HD 130322': 1, 'HD 131496': 1, 'HD 131664': 1, 'HD 13167': 1, 'HD 13189': 1, 'HD 132406': 1, 'HD 132563': 1, 'HD 133131 A': 2, 'HD 133131 B': 1, 'HD 134060': 2, 'HD 134987': 2, 'HD 136352': 3, 'HD 136418': 1, 'HD 13724': 1, 'HD 137388': 1, 'HD 13908': 2, 'HD 13931': 1, 'HD 139357': 1, 'HD 1397': 1, 'HD 14067': 1, 'HD 141399': 4, 'HD 141937': 1, 'HD 142': 2, 'HD 142022 A': 1, 'HD 142245': 1, 'HD 142415': 1, 'HD 143105': 1, 'HD 143361': 1, 'HD 145377': 1, 'HD 145457': 1, 'HD 145934': 1, 'HD 1461': 2, 'HD 147018': 2, 'HD 147379': 1, 'HD 147513': 1, 'HD 14787': 1, 'HD 147873': 2, 'HD 148156': 1, 'HD 148164': 2, 'HD 148284': 1, 'HD 148427': 1, 'HD 149026': 1, 'HD 149143': 1, 'HD 1502': 1, 'HD 150706': 1, 'HD 152079': 1, 'HD 152581': 1, 'HD 15337': 2, 'HD 153950': 1, 'HD 154345': 1, 'HD 154672': 1, 'HD 154857': 2, 'HD 155233': 1, 'HD 155358': 2, 'HD 156279': 2, 'HD 156411': 1, 'HD 156668': 1, 'HD 156846': 1, 'HD 158038': 1, 'HD 158259': 5, 'HD 158996': 1, 'HD 159243': 2, 'HD 159868': 2, 'HD 1605': 2, 'HD 160691': 4, 'HD 16141': 1, 'HD 16175': 1, 'HD 162020': 1, 'HD 163607': 2, 'HD 16417': 1, 'HD 164509': 1, 'HD 164595': 1, 'HD 164604': 1, 'HD 164922': 3, 'HD 165155': 1, 'HD 1666': 1, 'HD 166724': 1, 'HD 167042': 1, 'HD 168443': 2, 'HD 168746': 1, 'HD 1690': 1, 'HD 169830': 2, 'HD 170469': 1, 'HD 17092': 1, 'HD 171028': 1, 'HD 171238': 1, 'HD 17156': 1, 'HD 173416': 1, 'HD 175167': 1, 'HD 175541': 1, 'HD 175607': 1, 'HD 17674': 1, 'HD 176986': 2, 'HD 177565': 1, 'HD 177830': 2, 'HD 178911 B': 1, 'HD 179079': 1, 'HD 179949': 1, 'HD 180053': 1, 'HD 18015': 1, 'HD 180314': 1, 'HD 180617': 1, 'HD 180902': 1, 'HD 181234': 1, 'HD 181342': 1, 'HD 181433': 3, 'HD 181720': 1, 'HD 183263': 2, 'HD 185269': 1, 'HD 187085': 1, 'HD 187123': 2, 'HD 18742': 1, 'HD 188015': 1, 'HD 189733': 1, 'HD 190360': 2, 'HD 190647': 1, 'HD 190984': 1, 'HD 191806': 1, 'HD 191939': 3, 'HD 192263': 1, 'HD 192310': 2, 'HD 192699': 1, 'HD 195019': 1, 'HD 196050': 1, 'HD 196067': 1, 'HD 196885 A': 1, 'HD 197037': 1, 'HD 19994': 1, 'HD 20003': 2, 'HD 200964': 2, 'HD 202206': 1, 'HD 202696': 2, 'HD 202772 A': 1, 'HD 203030': 1, 'HD 203473': 1, 'HD 2039': 1, 'HD 204313': 2, 'HD 204941': 1, 'HD 205739': 1, 'HD 206255': 1, 'HD 206610': 1, 'HD 20781': 4, 'HD 20782': 1, 'HD 207832': 2, 'HD 20794': 4, 'HD 208487': 1, 'HD 208527': 1, 'HD 20868': 1, 'HD 208897': 1, 'HD 209458': 1, 'HD 210193': 1, 'HD 210277': 1, 'HD 210702': 1, 'HD 211810': 1, 'HD 211970': 1, 'HD 212301': 1, 'HD 212771': 1, 'HD 213240': 1, 'HD 213885': 2, 'HD 21411': 1, 'HD 214823': 1, 'HD 215152': 4, 'HD 215497': 2, 'HD 216435': 1, 'HD 216437': 1, 'HD 216536': 1, 'HD 216770': 1, 'HD 21693': 2, 'HD 217107': 2, 'HD 217786': 1, 'HD 217850': 1, 'HD 218566': 1, 'HD 219077': 1, 'HD 219134': 6, 'HD 219415': 1, 'HD 219666': 1, 'HD 219828': 2, 'HD 220074': 1, 'HD 220197': 1, 'HD 220689': 1, 'HD 220773': 1, 'HD 220842': 1, 'HD 221287': 1, 'HD 221416': 1, 'HD 221420': 1, 'HD 221585': 1, 'HD 222076': 1, 'HD 222155': 1, 'HD 222582': 1, 'HD 224538': 1, 'HD 224693': 1, 'HD 22781': 1, 'HD 23079': 1, 'HD 23127': 1, 'HD 231701': 1, 'HD 233604': 1, 'HD 233832': 1, 'HD 23472': 2, 'HD 23596': 1, 'HD 238914': 1, 'HD 240210': 1, 'HD 240237': 1, 'HD 24040': 1, 'HD 24064': 1, 'HD 24085': 1, 'HD 25015': 1, 'HD 25171': 1, 'HD 2638': 1, 'HD 2685': 1, 'HD 26965': 1, 'HD 27442': 1, 'HD 27631': 1, 'HD 27894': 3, 'HD 28185': 1, 'HD 28254': 1, 'HD 285507': 1, 'HD 285968': 1, 'HD 28678': 1, 'HD 29021': 1, 'HD 290327': 1, 'HD 2952': 1, 'HD 30177': 2, 'HD 30562': 1, 'HD 30669': 1, 'HD 30856': 1, 'HD 31253': 1, 'HD 31527': 3, 'HD 3167': 3, 'HD 32518': 1, 'HD 32963': 1, 'HD 330075': 1, 'HD 33142': 2, 'HD 332231': 1, 'HD 33283': 1, 'HD 33564': 1, 'HD 33844': 2, 'HD 34445': 6, 'HD 35759': 1, 'HD 3651': 1, 'HD 37124': 3, 'HD 37605': 2, 'HD 38283': 1, 'HD 38529': 2, 'HD 38801': 1, 'HD 39091': 2, 'HD 39855': 1, 'HD 40307': 5, 'HD 40956': 1, 'HD 40979': 1, 'HD 41004 A': 1, 'HD 41004 B': 1, 'HD 4113': 1, 'HD 42012': 1, 'HD 4203': 2, 'HD 4208': 1, 'HD 42618': 1, 'HD 4308': 1, 'HD 4313': 1, 'HD 43197': 1, 'HD 43691': 1, 'HD 44219': 1, 'HD 45184': 2, 'HD 45350': 1, 'HD 45364': 2, 'HD 45652': 1, 'HD 46375': 1, 'HD 47186': 2, 'HD 4732': 2, 'HD 47366': 2, 'HD 47536': 1, 'HD 48265': 1, 'HD 4917': 1, 'HD 49674': 1, 'HD 50499': 2, 'HD 50554': 1, 'HD 51608': 2, 'HD 52265': 1, 'HD 5319': 2, 'HD 55696': 1, 'HD 5583': 1, 'HD 5608': 1, 'HD 564': 1, 'HD 5891': 1, 'HD 59686 A': 1, 'HD 60532': 2, 'HD 62509': 1, 'HD 63433': 2, 'HD 63454': 1, 'HD 63765': 1, 'HD 64114': 1, 'HD 6434': 1, 'HD 65216': 2, 'HD 66141': 1, 'HD 66428': 1, 'HD 67087': 2, 'HD 6718': 1, 'HD 68402': 1, 'HD 68988': 1, 'HD 69830': 3, 'HD 70573': 1, 'HD 70642': 1, 'HD 7199': 1, 'HD 72490': 1, 'HD 72659': 1, 'HD 72892': 1, 'HD 73267': 1, 'HD 73526': 2, 'HD 73534': 1, 'HD 74156': 2, 'HD 7449': 1, 'HD 75289': 1, 'HD 75784': 2, 'HD 75898': 1, 'HD 76700': 1, 'HD 76920': 1, 'HD 77338': 1, 'HD 7924': 3, 'HD 79498': 1, 'HD 80606': 1, 'HD 80653': 1, 'HD 81040': 1, 'HD 81688': 1, 'HD 81817': 1, 'HD 82886': 1, 'HD 82943': 2, 'HD 8326': 1, 'HD 83443': 1, 'HD 8535': 1, 'HD 85390': 1, 'HD 85512': 1, 'HD 8574': 1, 'HD 86081': 1, 'HD 86226': 2, 'HD 86264': 1, 'HD 8673': 1, 'HD 86950': 1, 'HD 87646': 1, 'HD 87883': 1, 'HD 88133': 1, 'HD 89307': 1, 'HD 89345': 1, 'HD 89744': 1, 'HD 90156': 1, 'HD 9174': 1, 'HD 92788': 2, 'HD 92987': 1, 'HD 93083': 1, 'HD 9446': 2, 'HD 94834': 1, 'HD 95086': 1, 'HD 95089': 2, 'HD 95127': 1, 'HD 95338': 1, 'HD 95872': 1, 'HD 96063': 1, 'HD 96127': 1, 'HD 96167': 1, 'HD 97048': 1, 'HD 97658': 1, 'HD 98219': 1, 'HD 98649': 1, 'HD 98736': 1, 'HD 99109': 1, 'HD 99492': 1, 'HD 99706': 2, 'HIP 105854': 1, 'HIP 107772': 1, 'HIP 107773': 1, 'HIP 109384': 1, 'HIP 109600': 1, 'HIP 116454': 1, 'HIP 12961': 1, 'HIP 14810': 3, 'HIP 35173': 1, 'HIP 38594': 2, 'HIP 41378': 5, 'HIP 4845': 1, 'HIP 48714': 1, 'HIP 5158': 2, 'HIP 54373': 2, 'HIP 57274': 3, 'HIP 63242': 1, 'HIP 65 A': 1, 'HIP 65407': 2, 'HIP 65426': 1, 'HIP 65891': 1, 'HIP 67522': 1, 'HIP 67537': 1, 'HIP 67851': 2, 'HIP 70849': 1, 'HIP 71135': 1, 'HIP 74890': 1, 'HIP 78530': 1, 'HIP 79098 AB': 1, 'HIP 79431': 1, 'HIP 8541': 1, 'HIP 91258': 1, 'HIP 97233': 1, 'HN Peg': 1, 'HR 2562': 1, 'HR 5183': 1, 'HR 810': 1, 'HR 858': 3, 'HR 8799': 4, 'HU Aqr': 2, 'HW Vir': 1, 'IC 4651 9122': 1, 'iot Dra': 1, 'K2-10': 1, 'K2-100': 1, 'K2-101': 1, 'K2-102': 1, 'K2-104': 1, 'K2-105': 1, 'K2-107': 1, 'K2-108': 1, 'K2-11': 1, 'K2-110': 1, 'K2-111': 1, 'K2-113': 1, 'K2-114': 1, 'K2-115': 1, 'K2-116': 1, 'K2-117': 2, 'K2-118': 1, 'K2-119': 1, 'K2-12': 1, 'K2-120': 1, 'K2-121': 1, 'K2-122': 1, 'K2-123': 1, 'K2-124': 1, 'K2-125': 1, 'K2-126': 1, 'K2-127': 1, 'K2-128': 1, 'K2-129': 1, 'K2-13': 1, 'K2-130': 1, 'K2-131': 1, 'K2-132': 1, 'K2-133': 4, 'K2-136': 3, 'K2-137': 1, 'K2-138': 5, 'K2-139': 1, 'K2-14': 1, 'K2-140': 1, 'K2-141': 2, 'K2-146': 2, 'K2-147': 1, 'K2-148': 3, 'K2-149': 1, 'K2-15': 1, 'K2-150': 1, 'K2-151': 1, 'K2-152': 1, 'K2-153': 1, 'K2-154': 2, 'K2-155': 3, 'K2-156': 1, 'K2-157': 1, 'K2-158': 2, 'K2-159': 1, 'K2-160': 1, 'K2-161': 1, 'K2-162': 1, 'K2-163': 1, 'K2-164': 1, 'K2-165': 3, 'K2-167': 1, 'K2-169': 1, 'K2-17': 1, 'K2-170': 2, 'K2-171': 1, 'K2-172': 2, 'K2-173': 1, 'K2-174': 1, 'K2-175': 1, 'K2-176': 1, 'K2-177': 1, 'K2-178': 1, 'K2-179': 1, 'K2-18': 2, 'K2-180': 1, 'K2-181': 1, 'K2-182': 1, 'K2-183': 3, 'K2-184': 1, 'K2-185': 1, 'K2-186': 1, 'K2-187': 4, 'K2-188': 2, 'K2-189': 2, 'K2-19': 3, 'K2-190': 2, 'K2-191': 1, 'K2-192': 1, 'K2-193': 1, 'K2-194': 1, 'K2-195': 2, 'K2-196': 1, 'K2-197': 1, 'K2-198': 3, 'K2-199': 2, 'K2-200': 1, 'K2-201': 2, 'K2-202': 1, 'K2-203': 1, 'K2-204': 1, 'K2-205': 1, 'K2-206': 1, 'K2-207': 1, 'K2-208': 1, 'K2-209': 1, 'K2-21': 2, 'K2-210': 1, 'K2-211': 1, 'K2-212': 1, 'K2-213': 1, 'K2-214': 1, 'K2-215': 1, 'K2-216': 1, 'K2-217': 1, 'K2-218': 1, 'K2-219': 3, 'K2-22': 1, 'K2-220': 1, 'K2-221': 1, 'K2-222': 1, 'K2-223': 2, 'K2-224': 2, 'K2-225': 1, 'K2-226': 1, 'K2-227': 1, 'K2-228': 1, 'K2-229': 2, 'K2-230': 1, 'K2-231': 1, 'K2-232': 1, 'K2-233': 3, 'K2-237': 1, 'K2-238': 1, 'K2-239': 3, 'K2-24': 2, 'K2-240': 2, 'K2-241': 1, 'K2-242': 1, 'K2-243': 2, 'K2-244': 1, 'K2-245': 1, 'K2-246': 1, 'K2-247': 2, 'K2-248': 1, 'K2-249': 1, 'K2-25': 1, 'K2-250': 1, 'K2-251': 1, 'K2-252': 1, 'K2-253': 1, 'K2-254': 2, 'K2-255': 1, 'K2-256': 1, 'K2-257': 1, 'K2-258': 1, 'K2-259': 1, 'K2-26': 1, 'K2-260': 1, 'K2-261': 1, 'K2-263': 1, 'K2-264': 2, 'K2-265': 1, 'K2-266': 4, 'K2-268': 2, 'K2-269': 1, 'K2-27': 1, 'K2-270': 2, 'K2-271': 1, 'K2-272': 1, 'K2-273': 1, 'K2-274': 1, 'K2-275': 2, 'K2-276': 1, 'K2-277': 1, 'K2-278': 1, 'K2-279': 1, 'K2-28': 1, 'K2-280': 1, 'K2-281': 1, 'K2-283': 1, 'K2-284': 1, 'K2-285': 4, 'K2-286': 1, 'K2-287': 1, 'K2-288 B': 1, 'K2-289': 1, 'K2-29': 1, 'K2-290': 2, 'K2-291': 1, 'K2-292': 1, 'K2-293': 1, 'K2-294': 1, 'K2-295': 1, 'K2-3': 3, 'K2-30': 1, 'K2-308': 1, 'K2-31': 1, 'K2-315': 1, 'K2-316': 2, 'K2-317': 1, 'K2-318': 1, 'K2-319': 1, 'K2-32': 4, 'K2-320': 1, 'K2-321': 1, 'K2-322': 1, 'K2-323': 1, 'K2-324': 1, 'K2-325': 1, 'K2-326': 1, 'K2-33': 1, 'K2-34': 1, 'K2-35': 2, 'K2-36': 2, 'K2-37': 3, 'K2-38': 2, 'K2-39': 1, 'K2-4': 1, 'K2-42': 1, 'K2-43': 2, 'K2-44': 1, 'K2-45': 1, 'K2-46': 1, 'K2-47': 1, 'K2-48': 1, 'K2-49': 1, 'K2-5': 2, 'K2-52': 1, 'K2-53': 1, 'K2-54': 1, 'K2-55': 1, 'K2-57': 1, 'K2-58': 3, 'K2-59': 2, 'K2-6': 1, 'K2-60': 1, 'K2-61': 1, 'K2-62': 2, 'K2-63': 2, 'K2-64': 1, 'K2-65': 1, 'K2-66': 1, 'K2-68': 1, 'K2-69': 1, 'K2-7': 1, 'K2-70': 1, 'K2-71': 1, 'K2-72': 4, 'K2-73': 1, 'K2-74': 1, 'K2-75': 2, 'K2-77': 1, 'K2-79': 1, 'K2-8': 2, 'K2-80': 3, 'K2-81': 1, 'K2-83': 2, 'K2-84': 2, 'K2-85': 1, 'K2-86': 1, 'K2-87': 1, 'K2-88': 1, 'K2-89': 1, 'K2-9': 1, 'K2-90': 2, 'K2-91': 1, 'K2-95': 1, 'K2-97': 1, 'K2-98': 1, 'K2-99': 1, 'kap And': 1, 'kap CrB': 1, 'Kapteyn': 1, 'KELT-1': 1, 'KELT-10': 1, 'KELT-11': 1, 'KELT-12': 1, 'KELT-14': 1, 'KELT-15': 1, 'KELT-16': 1, 'KELT-17': 1, 'KELT-18': 1, 'KELT-19 A': 1, 'KELT-2 A': 1, 'KELT-20': 1, 'KELT-21': 1, 'KELT-23 A': 1, 'KELT-24': 1, 'KELT-3': 1, 'KELT-4 A': 1, 'KELT-6': 2, 'KELT-7': 1, 'KELT-8': 1, 'KELT-9': 1, 'Kepler-10': 2, 'Kepler-100': 3, 'Kepler-1000': 1, 'Kepler-1001': 2, 'Kepler-1002': 1, 'Kepler-1003': 1, 'Kepler-1004': 1, 'Kepler-1005': 1, 'Kepler-1006': 1, 'Kepler-1007': 1, 'Kepler-1008': 1, 'Kepler-1009': 1, 'Kepler-101': 2, 'Kepler-1010': 1, 'Kepler-1011': 1, 'Kepler-1012': 1, 'Kepler-1013': 1, 'Kepler-1014': 1, 'Kepler-1015': 1, 'Kepler-1016': 2, 'Kepler-1017': 1, 'Kepler-1018': 1, 'Kepler-1019': 1, 'Kepler-102': 5, 'Kepler-1020': 1, 'Kepler-1021': 1, 'Kepler-1022': 1, 'Kepler-1023': 1, 'Kepler-1024': 1, 'Kepler-1025': 1, 'Kepler-1026': 1, 'Kepler-1027': 1, 'Kepler-1028': 1, 'Kepler-1029': 1, 'Kepler-103': 2, 'Kepler-1030': 1, 'Kepler-1031': 1, 'Kepler-1032': 1, 'Kepler-1033': 1, 'Kepler-1034': 1, 'Kepler-1035': 1, 'Kepler-1036': 1, 'Kepler-1037': 1, 'Kepler-1038': 1, 'Kepler-1039': 1, 'Kepler-104': 3, 'Kepler-1040': 1, 'Kepler-1041': 1, 'Kepler-1042': 1, 'Kepler-1043': 1, 'Kepler-1044': 1, 'Kepler-1045': 1, 'Kepler-1046': 1, 'Kepler-1047': 2, 'Kepler-1048': 1, 'Kepler-1049': 1, 'Kepler-105': 2, 'Kepler-1050': 2, 'Kepler-1051': 1, 'Kepler-1052': 1, 'Kepler-1053': 1, 'Kepler-1054': 1, 'Kepler-1055': 1, 'Kepler-1056': 1, 'Kepler-1057': 1, 'Kepler-1058': 1, 'Kepler-1059': 1, 'Kepler-106': 4, 'Kepler-1060': 1, 'Kepler-1061': 1, 'Kepler-1062': 1, 'Kepler-1063': 1, 'Kepler-1064': 1, 'Kepler-1065': 2, 'Kepler-1066': 1, 'Kepler-1067': 1, 'Kepler-1068': 1, 'Kepler-1069': 1, 'Kepler-107': 4, 'Kepler-1070': 1, 'Kepler-1071': 1, 'Kepler-1072': 1, 'Kepler-1073': 2, 'Kepler-1074': 1, 'Kepler-1075': 1, 'Kepler-1076': 1, 'Kepler-1077': 1, 'Kepler-1078': 1, 'Kepler-1079': 1, 'Kepler-108': 2, 'Kepler-1080': 1, 'Kepler-1081': 1, 'Kepler-1082': 1, 'Kepler-1083': 1, 'Kepler-1084': 1, 'Kepler-1085': 2, 'Kepler-1086': 2, 'Kepler-1087': 1, 'Kepler-1088': 1, 'Kepler-1089': 1, 'Kepler-109': 2, 'Kepler-1090': 1, 'Kepler-1091': 1, 'Kepler-1092': 1, 'Kepler-1093': 2, 'Kepler-1094': 1, 'Kepler-1095': 1, 'Kepler-1096': 1, 'Kepler-1097': 1, 'Kepler-1098': 1, 'Kepler-1099': 1, 'Kepler-11': 6, 'Kepler-110': 2, 'Kepler-1100': 1, 'Kepler-1101': 1, 'Kepler-1102': 1, 'Kepler-1103': 1, 'Kepler-1104': 1, 'Kepler-1105': 1, 'Kepler-1106': 1, 'Kepler-1107': 1, 'Kepler-1108': 1, 'Kepler-1109': 1, 'Kepler-111': 2, 'Kepler-1110': 1, 'Kepler-1111': 1, 'Kepler-1112': 1, 'Kepler-1113': 1, 'Kepler-1114': 1, 'Kepler-1115': 1, 'Kepler-1116': 1, 'Kepler-1117': 1, 'Kepler-1118': 1, 'Kepler-1119': 1, 'Kepler-112': 2, 'Kepler-1120': 1, 'Kepler-1121': 1, 'Kepler-1122': 1, 'Kepler-1123': 1, 'Kepler-1124': 1, 'Kepler-1125': 1, 'Kepler-1126': 1, 'Kepler-1127': 1, 'Kepler-1128': 1, 'Kepler-1129': 2, 'Kepler-113': 2, 'Kepler-1130': 1, 'Kepler-1131': 1, 'Kepler-1132': 1, 'Kepler-1133': 1, 'Kepler-1134': 1, 'Kepler-1135': 1, 'Kepler-1136': 1, 'Kepler-1137': 1, 'Kepler-1138': 1, 'Kepler-1139': 1, 'Kepler-114': 3, 'Kepler-1140': 1, 'Kepler-1141': 1, 'Kepler-1142': 1, 'Kepler-1143': 2, 'Kepler-1144': 1, 'Kepler-1145': 1, 'Kepler-1146': 1, 'Kepler-1147': 1, 'Kepler-1148': 1, 'Kepler-1149': 1, 'Kepler-115': 2, 'Kepler-1150': 1, 'Kepler-1151': 1, 'Kepler-1152': 1, 'Kepler-1153': 1, 'Kepler-1154': 2, 'Kepler-1155': 1, 'Kepler-1156': 1, 'Kepler-1157': 1, 'Kepler-1158': 1, 'Kepler-1159': 1, 'Kepler-116': 2, 'Kepler-1160': 1, 'Kepler-1161': 1, 'Kepler-1162': 1, 'Kepler-1163': 1, 'Kepler-1164': 1, 'Kepler-1165': 1, 'Kepler-1166': 1, 'Kepler-1167': 1, 'Kepler-1168': 1, 'Kepler-1169': 1, 'Kepler-117': 2, 'Kepler-1170': 1, 'Kepler-1171': 1, 'Kepler-1172': 1, 'Kepler-1173': 1, 'Kepler-1174': 1, 'Kepler-1175': 1, 'Kepler-1176': 1, 'Kepler-1177': 1, 'Kepler-1178': 1, 'Kepler-1179': 1, 'Kepler-118': 2, 'Kepler-1180': 1, 'Kepler-1181': 1, 'Kepler-1182': 1, 'Kepler-1183': 1, 'Kepler-1184': 1, 'Kepler-1185': 1, 'Kepler-1186': 1, 'Kepler-1187': 1, 'Kepler-1188': 1, 'Kepler-1189': 1, 'Kepler-119': 2, 'Kepler-1190': 1, 'Kepler-1191': 1, 'Kepler-1192': 1, 'Kepler-1193': 1, 'Kepler-1194': 1, 'Kepler-1195': 1, 'Kepler-1196': 1, 'Kepler-1197': 1, 'Kepler-1198': 1, 'Kepler-1199': 1, 'Kepler-12': 1, 'Kepler-120': 2, 'Kepler-1200': 1, 'Kepler-1201': 1, 'Kepler-1202': 1, 'Kepler-1203': 1, 'Kepler-1204': 1, 'Kepler-1205': 1, 'Kepler-1206': 1, 'Kepler-1207': 1, 'Kepler-1208': 1, 'Kepler-1209': 1, 'Kepler-121': 2, 'Kepler-1210': 1, 'Kepler-1211': 1, 'Kepler-1212': 1, 'Kepler-1213': 1, 'Kepler-1214': 1, 'Kepler-1215': 1, 'Kepler-1216': 1, 'Kepler-1217': 1, 'Kepler-1218': 1, 'Kepler-1219': 1, 'Kepler-122': 5, 'Kepler-1220': 1, 'Kepler-1221': 1, 'Kepler-1222': 1, 'Kepler-1223': 1, 'Kepler-1224': 1, 'Kepler-1225': 1, 'Kepler-1226': 1, 'Kepler-1227': 1, 'Kepler-1228': 1, 'Kepler-1229': 1, 'Kepler-123': 2, 'Kepler-1230': 1, 'Kepler-1231': 1, 'Kepler-1232': 1, 'Kepler-1233': 1, 'Kepler-1234': 1, 'Kepler-1235': 1, 'Kepler-1236': 1, 'Kepler-1237': 1, 'Kepler-1238': 1, 'Kepler-1239': 1, 'Kepler-124': 3, 'Kepler-1240': 1, 'Kepler-1241': 1, 'Kepler-1242': 1, 'Kepler-1243': 1, 'Kepler-1244': 1, 'Kepler-1245': 2, 'Kepler-1246': 1, 'Kepler-1247': 1, 'Kepler-1248': 1, 'Kepler-1249': 1, 'Kepler-125': 2, 'Kepler-1250': 1, 'Kepler-1251': 1, 'Kepler-1252': 1, 'Kepler-1253': 1, 'Kepler-1254': 3, 'Kepler-1255': 1, 'Kepler-1256': 1, 'Kepler-1257': 1, 'Kepler-1258': 1, 'Kepler-1259': 1, 'Kepler-126': 3, 'Kepler-1260': 1, 'Kepler-1261': 1, 'Kepler-1262': 1, 'Kepler-1263': 1, 'Kepler-1264': 1, 'Kepler-1265': 1, 'Kepler-1266': 1, 'Kepler-1267': 1, 'Kepler-1268': 1, 'Kepler-1269': 1, 'Kepler-127': 3, 'Kepler-1270': 1, 'Kepler-1271': 1, 'Kepler-1272': 1, 'Kepler-1273': 1, 'Kepler-1274': 1, 'Kepler-1275': 1, 'Kepler-1276': 1, 'Kepler-1277': 1, 'Kepler-1278': 1, 'Kepler-1279': 1, 'Kepler-128': 2, 'Kepler-1280': 1, 'Kepler-1281': 1, 'Kepler-1282': 1, 'Kepler-1283': 1, 'Kepler-1284': 1, 'Kepler-1285': 1, 'Kepler-1286': 1, 'Kepler-1287': 1, 'Kepler-1288': 1, 'Kepler-1289': 1, 'Kepler-129': 2, 'Kepler-1290': 1, 'Kepler-1291': 1, 'Kepler-1292': 1, 'Kepler-1293': 1, 'Kepler-1294': 1, 'Kepler-1295': 1, 'Kepler-1296': 1, 'Kepler-1297': 1, 'Kepler-1298': 1, 'Kepler-1299': 1, 'Kepler-130': 3, 'Kepler-1300': 1, 'Kepler-1301': 1, 'Kepler-1302': 1, 'Kepler-1303': 1, 'Kepler-1304': 1, 'Kepler-1305': 1, 'Kepler-1306': 1, 'Kepler-1307': 1, 'Kepler-1308': 1, 'Kepler-1309': 1, 'Kepler-131': 2, 'Kepler-1310': 1, 'Kepler-1311': 2, 'Kepler-1312': 1, 'Kepler-1313': 1, 'Kepler-1314': 1, 'Kepler-1315': 1, 'Kepler-1316': 1, 'Kepler-1317': 1, 'Kepler-1318': 1, 'Kepler-1319': 1, 'Kepler-132': 4, 'Kepler-1320': 1, 'Kepler-1321': 2, 'Kepler-1322': 1, 'Kepler-1323': 1, 'Kepler-1324': 1, 'Kepler-1325': 1, 'Kepler-1326': 1, 'Kepler-1327': 1, 'Kepler-1328': 1, 'Kepler-1329': 1, 'Kepler-133': 2, 'Kepler-1330': 1, 'Kepler-1331': 1, 'Kepler-1332': 1, 'Kepler-1333': 1, 'Kepler-1334': 1, 'Kepler-1335': 1, 'Kepler-1336': 2, 'Kepler-1337': 1, 'Kepler-1338': 1, 'Kepler-1339': 1, 'Kepler-134': 2, 'Kepler-1340': 1, 'Kepler-1341': 1, 'Kepler-1342': 1, 'Kepler-1343': 1, 'Kepler-1344': 1, 'Kepler-1345': 1, 'Kepler-1346': 1, 'Kepler-1347': 1, 'Kepler-1348': 1, 'Kepler-1349': 1, 'Kepler-135': 2, 'Kepler-1350': 2, 'Kepler-1351': 1, 'Kepler-1352': 1, 'Kepler-1353': 1, 'Kepler-1354': 1, 'Kepler-1355': 1, 'Kepler-1356': 1, 'Kepler-1357': 1, 'Kepler-1358': 1, 'Kepler-1359': 1, 'Kepler-136': 2, 'Kepler-1360': 1, 'Kepler-1361': 1, 'Kepler-1362': 1, 'Kepler-1363': 1, 'Kepler-1364': 1, 'Kepler-1365': 2, 'Kepler-1366': 1, 'Kepler-1367': 1, 'Kepler-1368': 1, 'Kepler-1369': 1, 'Kepler-137': 2, 'Kepler-1370': 2, 'Kepler-1371': 2, 'Kepler-1372': 1, 'Kepler-1373': 1, 'Kepler-1374': 1, 'Kepler-1375': 1, 'Kepler-1376': 1, 'Kepler-1377': 1, 'Kepler-1378': 1, 'Kepler-1379': 1, 'Kepler-138': 3, 'Kepler-1380': 1, 'Kepler-1381': 1, 'Kepler-1382': 1, 'Kepler-1383': 1, 'Kepler-1384': 1, 'Kepler-1385': 1, 'Kepler-1386': 1, 'Kepler-1387': 1, 'Kepler-1388': 4, 'Kepler-1389': 1, 'Kepler-139': 2, 'Kepler-1390': 1, 'Kepler-1391': 1, 'Kepler-1392': 1, 'Kepler-1393': 1, 'Kepler-1394': 1, 'Kepler-1395': 1, 'Kepler-1396': 1, 'Kepler-1397': 1, 'Kepler-1398': 2, 'Kepler-1399': 1, 'Kepler-14': 1, 'Kepler-140': 2, 'Kepler-1400': 1, 'Kepler-1401': 1, 'Kepler-1402': 1, 'Kepler-1403': 1, 'Kepler-1404': 1, 'Kepler-1405': 1, 'Kepler-1406': 1, 'Kepler-1407': 1, 'Kepler-1408': 1, 'Kepler-1409': 1, 'Kepler-141': 2, 'Kepler-1410': 1, 'Kepler-1411': 1, 'Kepler-1412': 1, 'Kepler-1413': 1, 'Kepler-1414': 1, 'Kepler-1415': 1, 'Kepler-1416': 1, 'Kepler-1417': 1, 'Kepler-1418': 1, 'Kepler-1419': 1, 'Kepler-142': 3, 'Kepler-1420': 1, 'Kepler-1421': 1, 'Kepler-1422': 1, 'Kepler-1423': 1, 'Kepler-1424': 1, 'Kepler-1425': 1, 'Kepler-1426': 1, 'Kepler-1427': 1, 'Kepler-1428': 1, 'Kepler-1429': 1, 'Kepler-143': 2, 'Kepler-1430': 1, 'Kepler-1431': 1, 'Kepler-1432': 1, 'Kepler-1433': 1, 'Kepler-1434': 1, 'Kepler-1435': 1, 'Kepler-1436': 1, 'Kepler-1437': 1, 'Kepler-1438': 1, 'Kepler-1439': 1, 'Kepler-144': 2, 'Kepler-1440': 1, 'Kepler-1441': 1, 'Kepler-1442': 1, 'Kepler-1443': 1, 'Kepler-1444': 1, 'Kepler-1445': 1, 'Kepler-1446': 1, 'Kepler-1447': 1, 'Kepler-1448': 1, 'Kepler-1449': 1, 'Kepler-145': 2, 'Kepler-1450': 1, 'Kepler-1451': 1, 'Kepler-1452': 1, 'Kepler-1453': 1, 'Kepler-1454': 1, 'Kepler-1455': 1, 'Kepler-1456': 1, 'Kepler-1457': 1, 'Kepler-1458': 1, 'Kepler-1459': 1, 'Kepler-146': 2, 'Kepler-1460': 1, 'Kepler-1461': 1, 'Kepler-1462': 1, 'Kepler-1463': 1, 'Kepler-1464': 2, 'Kepler-1465': 1, 'Kepler-1466': 1, 'Kepler-1467': 1, 'Kepler-1468': 2, 'Kepler-1469': 1, 'Kepler-147': 2, 'Kepler-1470': 1, 'Kepler-1471': 1, 'Kepler-1472': 1, 'Kepler-1473': 1, 'Kepler-1474': 1, 'Kepler-1475': 1, 'Kepler-1476': 1, 'Kepler-1477': 1, 'Kepler-1478': 1, 'Kepler-1479': 1, 'Kepler-148': 3, 'Kepler-1480': 1, 'Kepler-1481': 1, 'Kepler-1482': 1, 'Kepler-1483': 1, 'Kepler-1484': 1, 'Kepler-1485': 1, 'Kepler-1486': 1, 'Kepler-1487': 1, 'Kepler-1488': 1, 'Kepler-1489': 1, 'Kepler-149': 3, 'Kepler-1490': 1, 'Kepler-1491': 1, 'Kepler-1492': 1, 'Kepler-1493': 1, 'Kepler-1494': 1, 'Kepler-1495': 1, 'Kepler-1496': 1, 'Kepler-1497': 1, 'Kepler-1498': 1, 'Kepler-1499': 1, 'Kepler-15': 1, 'Kepler-150': 5, 'Kepler-1500': 1, 'Kepler-1501': 1, 'Kepler-1502': 1, 'Kepler-1503': 1, 'Kepler-1504': 1, 'Kepler-1505': 1, 'Kepler-1506': 1, 'Kepler-1507': 1, 'Kepler-1508': 1, 'Kepler-1509': 1, 'Kepler-151': 2, 'Kepler-1510': 1, 'Kepler-1511': 1, 'Kepler-1512': 1, 'Kepler-1513': 1, 'Kepler-1514': 2, 'Kepler-1515': 1, 'Kepler-1516': 1, 'Kepler-1517': 1, 'Kepler-1518': 1, 'Kepler-1519': 1, 'Kepler-152': 2, 'Kepler-1520': 1, 'Kepler-1521': 1, 'Kepler-1522': 1, 'Kepler-1523': 1, 'Kepler-1524': 1, 'Kepler-1525': 1, 'Kepler-1526': 1, 'Kepler-1527': 1, 'Kepler-1528': 1, 'Kepler-1529': 1, 'Kepler-153': 2, 'Kepler-1530': 2, 'Kepler-1531': 1, 'Kepler-1532': 1, 'Kepler-1533': 1, 'Kepler-1534': 1, 'Kepler-1535': 1, 'Kepler-1536': 1, 'Kepler-1537': 1, 'Kepler-1538': 1, 'Kepler-1539': 1, 'Kepler-154': 5, 'Kepler-1540': 1, 'Kepler-1541': 1, 'Kepler-1542': 4, 'Kepler-1543': 1, 'Kepler-1544': 1, 'Kepler-1545': 1, 'Kepler-1546': 1, 'Kepler-1547': 1, 'Kepler-1548': 1, 'Kepler-1549': 1, 'Kepler-155': 2, 'Kepler-1550': 1, 'Kepler-1551': 1, 'Kepler-1552': 1, 'Kepler-1553': 1, 'Kepler-1554': 1, 'Kepler-1555': 1, 'Kepler-1556': 1, 'Kepler-1557': 1, 'Kepler-1558': 1, 'Kepler-1559': 1, 'Kepler-156': 2, 'Kepler-1560': 1, 'Kepler-1561': 1, 'Kepler-1562': 1, 'Kepler-1563': 1, 'Kepler-1564': 1, 'Kepler-1565': 1, 'Kepler-1566': 1, 'Kepler-1567': 1, 'Kepler-1568': 1, 'Kepler-1569': 1, 'Kepler-157': 3, 'Kepler-1570': 1, 'Kepler-1571': 1, 'Kepler-1572': 1, 'Kepler-1573': 1, 'Kepler-1574': 1, 'Kepler-1575': 1, 'Kepler-1576': 1, 'Kepler-1577': 1, 'Kepler-1578': 1, 'Kepler-1579': 1, 'Kepler-158': 2, 'Kepler-1580': 1, 'Kepler-1581': 1, 'Kepler-1582': 1, 'Kepler-1583': 1, 'Kepler-1584': 1, 'Kepler-1585': 1, 'Kepler-1586': 1, 'Kepler-1587': 1, 'Kepler-1588': 1, 'Kepler-1589': 1, 'Kepler-159': 2, 'Kepler-1590': 1, 'Kepler-1591': 1, 'Kepler-1592': 1, 'Kepler-1593': 1, 'Kepler-1594': 1, 'Kepler-1595': 1, 'Kepler-1596': 1, 'Kepler-1597': 1, 'Kepler-1598': 1, 'Kepler-1599': 1, 'Kepler-16': 1, 'Kepler-160': 3, 'Kepler-1600': 1, 'Kepler-1601': 1, 'Kepler-1602': 1, 'Kepler-1603': 1, 'Kepler-1604': 1, 'Kepler-1605': 1, 'Kepler-1606': 1, 'Kepler-1607': 1, 'Kepler-1608': 1, 'Kepler-1609': 1, 'Kepler-161': 2, 'Kepler-1610': 1, 'Kepler-1611': 1, 'Kepler-1612': 1, 'Kepler-1613': 1, 'Kepler-1614': 1, 'Kepler-1615': 1, 'Kepler-1616': 1, 'Kepler-1617': 1, 'Kepler-1618': 1, 'Kepler-1619': 1, 'Kepler-162': 2, 'Kepler-1620': 1, 'Kepler-1621': 1, 'Kepler-1622': 1, 'Kepler-1623': 1, 'Kepler-1624': 1, 'Kepler-1625': 1, 'Kepler-1626': 1, 'Kepler-1627': 1, 'Kepler-1628': 1, 'Kepler-1629': 1, 'Kepler-163': 2, 'Kepler-1630': 1, 'Kepler-1631': 1, 'Kepler-1632': 1, 'Kepler-1633': 1, 'Kepler-1634': 1, 'Kepler-1635': 1, 'Kepler-1636': 1, 'Kepler-1637': 1, 'Kepler-1638': 1, 'Kepler-1639': 1, 'Kepler-164': 3, 'Kepler-1640': 1, 'Kepler-1641': 2, 'Kepler-1642': 2, 'Kepler-1643': 1, 'Kepler-1644': 1, 'Kepler-1645': 1, 'Kepler-1646': 1, 'Kepler-1647': 1, 'Kepler-1649': 2, 'Kepler-165': 2, 'Kepler-1650': 1, 'Kepler-1651': 1, 'Kepler-1652': 1, 'Kepler-1653': 1, 'Kepler-1654': 1, 'Kepler-1655': 1, 'Kepler-1656': 1, 'Kepler-1658': 1, 'Kepler-166': 3, 'Kepler-1661': 1, 'Kepler-1663': 1, 'Kepler-1664': 1, 'Kepler-1665': 1, 'Kepler-1666': 2, 'Kepler-1667': 1, 'Kepler-1668': 1, 'Kepler-1669': 1, 'Kepler-167': 4, 'Kepler-1670': 1, 'Kepler-1671': 1, 'Kepler-1672': 1, 'Kepler-1673': 1, 'Kepler-1674': 1, 'Kepler-1675': 1, 'Kepler-1676': 1, 'Kepler-1677': 1, 'Kepler-1678': 1, 'Kepler-1679': 1, 'Kepler-168': 2, 'Kepler-1680': 1, 'Kepler-1681': 1, 'Kepler-1682': 1, 'Kepler-1683': 1, 'Kepler-1684': 1, 'Kepler-1685': 1, 'Kepler-1686': 1, 'Kepler-1687': 1, 'Kepler-1688': 1, 'Kepler-1689': 1, 'Kepler-169': 5, 'Kepler-1690': 1, 'Kepler-1691': 1, 'Kepler-1692': 1, 'Kepler-1693': 1, 'Kepler-1694': 1, 'Kepler-1695': 1, 'Kepler-1696': 1, 'Kepler-1697': 1, 'Kepler-1698': 1, 'Kepler-1699': 1, 'Kepler-17': 1, 'Kepler-170': 2, 'Kepler-1700': 1, 'Kepler-1701': 1, 'Kepler-1702': 1, 'Kepler-171': 3, 'Kepler-172': 4, 'Kepler-173': 2, 'Kepler-174': 3, 'Kepler-175': 2, 'Kepler-176': 4, 'Kepler-177': 2, 'Kepler-178': 3, 'Kepler-179': 2, 'Kepler-18': 3, 'Kepler-180': 2, 'Kepler-181': 2, 'Kepler-182': 2, 'Kepler-183': 2, 'Kepler-184': 3, 'Kepler-185': 2, 'Kepler-186': 5, 'Kepler-187': 2, 'Kepler-188': 2, 'Kepler-189': 2, 'Kepler-19': 3, 'Kepler-190': 2, 'Kepler-191': 3, 'Kepler-192': 3, 'Kepler-193': 2, 'Kepler-194': 3, 'Kepler-195': 2, 'Kepler-196': 2, 'Kepler-197': 4, 'Kepler-198': 3, 'Kepler-199': 2, 'Kepler-20': 6, 'Kepler-200': 2, 'Kepler-201': 2, 'Kepler-202': 2, 'Kepler-203': 3, 'Kepler-204': 2, 'Kepler-205': 2, 'Kepler-206': 3, 'Kepler-207': 3, 'Kepler-208': 4, 'Kepler-209': 2, 'Kepler-21': 1, 'Kepler-210': 2, 'Kepler-211': 2, 'Kepler-212': 2, 'Kepler-213': 2, 'Kepler-214': 2, 'Kepler-215': 4, 'Kepler-216': 2, 'Kepler-217': 3, 'Kepler-218': 3, 'Kepler-219': 3, 'Kepler-22': 1, 'Kepler-220': 4, 'Kepler-221': 4, 'Kepler-222': 3, 'Kepler-223': 4, 'Kepler-224': 4, 'Kepler-225': 2, 'Kepler-226': 3, 'Kepler-227': 2, 'Kepler-228': 3, 'Kepler-229': 3, 'Kepler-23': 3, 'Kepler-230': 2, 'Kepler-231': 2, 'Kepler-232': 2, 'Kepler-233': 2, 'Kepler-234': 2, 'Kepler-235': 4, 'Kepler-236': 2, 'Kepler-237': 2, 'Kepler-238': 5, 'Kepler-239': 2, 'Kepler-24': 4, 'Kepler-240': 2, 'Kepler-241': 2, 'Kepler-242': 2, 'Kepler-243': 2, 'Kepler-244': 3, 'Kepler-245': 4, 'Kepler-246': 2, 'Kepler-247': 3, 'Kepler-248': 2, 'Kepler-249': 3, 'Kepler-25': 3, 'Kepler-250': 3, 'Kepler-251': 4, 'Kepler-252': 2, 'Kepler-253': 3, 'Kepler-254': 3, 'Kepler-255': 3, 'Kepler-256': 4, 'Kepler-257': 3, 'Kepler-258': 2, 'Kepler-259': 2, 'Kepler-26': 4, 'Kepler-260': 2, 'Kepler-261': 2, 'Kepler-262': 2, 'Kepler-263': 2, 'Kepler-264': 2, 'Kepler-265': 4, 'Kepler-266': 2, 'Kepler-267': 3, 'Kepler-268': 2, 'Kepler-269': 2, 'Kepler-27': 2, 'Kepler-270': 2, 'Kepler-271': 3, 'Kepler-272': 3, 'Kepler-273': 2, 'Kepler-274': 2, 'Kepler-275': 3, 'Kepler-276': 3, 'Kepler-277': 2, 'Kepler-278': 2, 'Kepler-279': 3, 'Kepler-28': 2, 'Kepler-280': 2, 'Kepler-281': 2, 'Kepler-282': 4, 'Kepler-283': 2, 'Kepler-284': 2, 'Kepler-285': 2, 'Kepler-286': 4, 'Kepler-287': 2, 'Kepler-288': 3, 'Kepler-289': 3, 'Kepler-29': 2, 'Kepler-290': 2, 'Kepler-291': 2, 'Kepler-292': 5, 'Kepler-293': 2, 'Kepler-294': 2, 'Kepler-295': 3, 'Kepler-296': 5, 'Kepler-297': 2, 'Kepler-298': 3, 'Kepler-299': 4, 'Kepler-30': 3, 'Kepler-300': 2, 'Kepler-301': 3, 'Kepler-302': 2, 'Kepler-303': 2, 'Kepler-304': 4, 'Kepler-305': 4, 'Kepler-306': 4, 'Kepler-307': 2, 'Kepler-308': 2, 'Kepler-309': 2, 'Kepler-31': 3, 'Kepler-310': 3, 'Kepler-311': 2, 'Kepler-312': 2, 'Kepler-313': 2, 'Kepler-314': 2, 'Kepler-315': 2, 'Kepler-316': 2, 'Kepler-317': 2, 'Kepler-318': 2, 'Kepler-319': 3, 'Kepler-32': 5, 'Kepler-320': 2, 'Kepler-321': 2, 'Kepler-322': 2, 'Kepler-323': 2, 'Kepler-324': 2, 'Kepler-325': 3, 'Kepler-326': 3, 'Kepler-327': 3, 'Kepler-328': 2, 'Kepler-329': 2, 'Kepler-33': 5, 'Kepler-330': 2, 'Kepler-331': 3, 'Kepler-332': 3, 'Kepler-333': 2, 'Kepler-334': 3, 'Kepler-335': 2, 'Kepler-336': 3, 'Kepler-337': 2, 'Kepler-338': 4, 'Kepler-339': 3, 'Kepler-34': 1, 'Kepler-340': 2, 'Kepler-341': 4, 'Kepler-342': 4, 'Kepler-343': 2, 'Kepler-344': 2, 'Kepler-345': 2, 'Kepler-346': 2, 'Kepler-347': 2, 'Kepler-348': 2, 'Kepler-349': 2, 'Kepler-35': 1, 'Kepler-350': 3, 'Kepler-351': 3, 'Kepler-352': 2, 'Kepler-353': 2, 'Kepler-354': 3, 'Kepler-355': 2, 'Kepler-356': 2, 'Kepler-357': 3, 'Kepler-358': 2, 'Kepler-359': 3, 'Kepler-36': 2, 'Kepler-360': 2, 'Kepler-361': 2, 'Kepler-362': 2, 'Kepler-363': 3, 'Kepler-364': 2, 'Kepler-365': 2, 'Kepler-366': 2, 'Kepler-367': 2, 'Kepler-368': 2, 'Kepler-369': 2, 'Kepler-37': 4, 'Kepler-370': 2, 'Kepler-371': 2, 'Kepler-372': 3, 'Kepler-373': 2, 'Kepler-374': 3, 'Kepler-375': 2, 'Kepler-376': 2, 'Kepler-377': 2, 'Kepler-378': 2, 'Kepler-379': 2, 'Kepler-38': 1, 'Kepler-380': 2, 'Kepler-381': 2, 'Kepler-382': 2, 'Kepler-383': 2, 'Kepler-384': 2, 'Kepler-385': 3, 'Kepler-386': 2, 'Kepler-387': 2, 'Kepler-388': 2, 'Kepler-389': 2, 'Kepler-39': 1, 'Kepler-390': 2, 'Kepler-391': 2, 'Kepler-392': 2, 'Kepler-393': 2, 'Kepler-394': 2, 'Kepler-395': 2, 'Kepler-396': 2, 'Kepler-397': 2, 'Kepler-398': 3, 'Kepler-399': 3, 'Kepler-4': 1, 'Kepler-40': 1, 'Kepler-400': 2, 'Kepler-401': 3, 'Kepler-402': 4, 'Kepler-403': 3, 'Kepler-404': 2, 'Kepler-405': 2, 'Kepler-406': 2, 'Kepler-407': 2, 'Kepler-408': 1, 'Kepler-409': 1, 'Kepler-41': 1, 'Kepler-410 A': 1, 'Kepler-411': 4, 'Kepler-412': 1, 'Kepler-413': 1, 'Kepler-414': 2, 'Kepler-415': 2, 'Kepler-416': 2, 'Kepler-417': 2, 'Kepler-418': 1, 'Kepler-419': 2, 'Kepler-42': 3, 'Kepler-421': 1, 'Kepler-422': 1, 'Kepler-423': 1, 'Kepler-424': 2, 'Kepler-425': 1, 'Kepler-426': 1, 'Kepler-427': 1, 'Kepler-428': 1, 'Kepler-43': 1, 'Kepler-430': 2, 'Kepler-431': 3, 'Kepler-432': 2, 'Kepler-433': 1, 'Kepler-434': 1, 'Kepler-435': 1, 'Kepler-436': 2, 'Kepler-437': 1, 'Kepler-438': 1, 'Kepler-439': 1, 'Kepler-44': 1, 'Kepler-440': 1, 'Kepler-441': 1, 'Kepler-442': 1, 'Kepler-443': 1, 'Kepler-444': 5, 'Kepler-445': 3, 'Kepler-446': 3, 'Kepler-447': 1, 'KOI-12': 2, 'Kepler-449': 2, 'Kepler-45': 1, 'Kepler-450': 3, 'Kepler-452': 1, 'Kepler-453': 1, 'Kepler-454': 2, 'KIC 9663113': 2, 'Kepler-46': 3, 'KIC 5437945': 2, 'Kepler-461': 1, 'Kepler-462': 1, 'Kepler-463': 1, 'Kepler-464': 1, 'Kepler-465': 1, 'Kepler-466': 2, 'Kepler-467': 1, 'Kepler-468': 1, 'Kepler-47': 3, 'Kepler-470': 1, 'Kepler-471': 1, 'Kepler-472': 1, 'Kepler-473': 1, 'Kepler-474': 1, 'Kepler-475': 1, 'Kepler-476': 1, 'Kepler-477': 1, 'Kepler-478': 1, 'Kepler-479': 1, 'Kepler-48': 4, 'Kepler-480': 1, 'Kepler-481': 1, 'Kepler-482': 1, 'Kepler-483': 1, 'Kepler-484': 1, 'Kepler-485': 1, 'Kepler-486': 1, 'Kepler-487': 2, 'Kepler-488': 1, 'Kepler-489': 1, 'Kepler-49': 4, 'Kepler-490': 1, 'Kepler-491': 1, 'Kepler-492': 1, 'Kepler-493': 1, 'Kepler-494': 1, 'Kepler-495': 1, 'Kepler-496': 1, 'Kepler-497': 1, 'Kepler-498': 1, 'Kepler-499': 1, 'Kepler-5': 1, 'Kepler-50': 2, 'Kepler-500': 1, 'Kepler-501': 1, 'Kepler-502': 1, 'Kepler-504': 1, 'Kepler-505': 1, 'Kepler-506': 1, 'Kepler-507': 1, 'Kepler-508': 1, 'Kepler-509': 1, 'Kepler-51': 3, 'Kepler-510': 1, 'Kepler-511': 1, 'Kepler-512': 1, 'Kepler-513': 1, 'Kepler-514': 1, 'Kepler-515': 1, 'Kepler-516': 1, 'Kepler-517': 1, 'Kepler-518': 1, 'Kepler-519': 1, 'Kepler-52': 3, 'Kepler-520': 2, 'Kepler-521': 1, 'Kepler-522': 1, 'Kepler-523': 1, 'Kepler-524': 2, 'Kepler-525': 1, 'Kepler-526': 1, 'Kepler-527': 1, 'Kepler-528': 1, 'Kepler-529': 2, 'Kepler-53': 3, 'Kepler-530': 1, 'Kepler-531': 1, 'Kepler-532': 1, 'Kepler-533': 1, 'Kepler-534': 1, 'Kepler-535': 1, 'Kepler-536': 1, 'Kepler-537': 1, 'Kepler-538': 1, 'Kepler-539': 2, 'Kepler-54': 3, 'Kepler-540': 1, 'Kepler-541': 1, 'Kepler-542': 1, 'Kepler-543': 1, 'Kepler-544': 1, 'Kepler-545': 1, 'Kepler-546': 1, 'Kepler-547': 1, 'Kepler-548': 1, 'Kepler-549': 2, 'Kepler-55': 5, 'Kepler-550': 1, 'Kepler-551': 1, 'Kepler-552': 1, 'Kepler-553': 2, 'Kepler-554': 1, 'Kepler-555': 1, 'Kepler-556': 1, 'Kepler-557': 1, 'Kepler-558': 1, 'Kepler-559': 1, 'Kepler-56': 3, 'Kepler-560': 1, 'Kepler-561': 2, 'Kepler-562': 1, 'Kepler-563': 1, 'Kepler-564': 1, 'Kepler-565': 1, 'Kepler-566': 1, 'Kepler-567': 1, 'Kepler-568': 1, 'Kepler-569': 1, 'Kepler-57': 2, 'Kepler-570': 1, 'Kepler-571': 1, 'Kepler-572': 1, 'Kepler-573': 1, 'Kepler-574': 1, 'Kepler-575': 1, 'Kepler-576': 1, 'Kepler-577': 1, 'Kepler-578': 1, 'Kepler-579': 1, 'Kepler-58': 3, 'Kepler-580': 1, 'Kepler-581': 1, 'Kepler-582': 1, 'Kepler-583': 1, 'Kepler-584': 1, 'Kepler-585': 1, 'Kepler-586': 1, 'Kepler-587': 1, 'Kepler-588': 1, 'Kepler-589': 1, 'Kepler-59': 2, 'Kepler-590': 1, 'Kepler-591': 1, 'Kepler-592': 1, 'Kepler-593': 1, 'Kepler-594': 1, 'Kepler-595': 1, 'Kepler-596': 1, 'Kepler-597': 1, 'Kepler-598': 2, 'Kepler-599': 1, 'Kepler-6': 1, 'Kepler-60': 3, 'Kepler-600': 1, 'Kepler-601': 1, 'Kepler-602': 1, 'Kepler-603': 3, 'Kepler-604': 1, 'Kepler-605': 2, 'Kepler-606': 1, 'Kepler-607': 1, 'Kepler-608': 1, 'Kepler-609': 1, 'Kepler-61': 1, 'Kepler-610': 2, 'Kepler-611': 1, 'Kepler-612': 1, 'Kepler-613': 1, 'Kepler-614': 1, 'Kepler-615': 1, 'Kepler-616': 2, 'Kepler-617': 1, 'Kepler-618': 1, 'Kepler-619': 2, 'Kepler-62': 5, 'Kepler-620': 1, 'Kepler-621': 1, 'Kepler-622': 1, 'Kepler-623': 1, 'Kepler-624': 1, 'Kepler-625': 2, 'Kepler-626': 1, 'Kepler-627': 1, 'Kepler-628': 1, 'Kepler-629': 1, 'Kepler-63': 1, 'Kepler-630': 1, 'Kepler-631': 1, 'Kepler-632': 1, 'Kepler-633': 1, 'Kepler-634': 1, 'Kepler-635': 1, 'Kepler-636': 1, 'Kepler-637': 1, 'Kepler-638': 1, 'Kepler-639': 1, 'Kepler-640': 1, 'Kepler-641': 1, 'Kepler-642': 1, 'Kepler-643': 1, 'Kepler-644': 1, 'Kepler-645': 1, 'Kepler-646': 1, 'Kepler-647': 2, 'Kepler-648': 1, 'Kepler-649': 1, 'Kepler-65': 4, 'Kepler-650': 1, 'Kepler-651': 1, 'Kepler-652': 1, 'Kepler-653': 2, 'Kepler-654': 1, 'Kepler-655': 1, 'Kepler-656': 1, 'Kepler-657': 1, 'Kepler-658': 1, 'Kepler-659': 1, 'Kepler-66': 1, 'Kepler-660': 1, 'Kepler-661': 1, 'Kepler-662': 1, 'Kepler-663': 1, 'Kepler-664': 1, 'Kepler-665': 1, 'Kepler-666': 1, 'Kepler-667': 1, 'Kepler-668': 1, 'Kepler-669': 1, 'Kepler-67': 1, 'Kepler-670': 1, 'Kepler-671': 1, 'Kepler-672': 1, 'Kepler-673': 1, 'Kepler-674': 1, 'Kepler-675': 1, 'Kepler-676': 1, 'Kepler-677': 1, 'Kepler-678': 1, 'Kepler-679': 1, 'Kepler-68': 3, 'Kepler-680': 1, 'Kepler-681': 1, 'Kepler-682': 1, 'Kepler-683': 1, 'Kepler-684': 1, 'Kepler-685': 1, 'Kepler-686': 1, 'Kepler-687': 1, 'Kepler-688': 1, 'Kepler-689': 1, 'Kepler-69': 2, 'Kepler-690': 1, 'Kepler-691': 1, 'Kepler-692': 1, 'Kepler-693': 1, 'Kepler-694': 1, 'Kepler-695': 1, 'Kepler-696': 1, 'Kepler-697': 1, 'Kepler-698': 1, 'Kepler-699': 1, 'Kepler-7': 1, 'Kepler-700': 1, 'Kepler-701': 1, 'Kepler-702': 1, 'Kepler-703': 1, 'Kepler-704': 1, 'Kepler-705': 1, 'Kepler-706': 1, 'Kepler-707': 1, 'Kepler-708': 1, 'Kepler-709': 1, 'Kepler-710': 1, 'Kepler-711': 1, 'Kepler-712': 2, 'Kepler-713': 1, 'Kepler-714': 1, 'Kepler-715': 1, 'Kepler-716': 2, 'Kepler-717': 1, 'Kepler-718': 1, 'Kepler-719': 1, 'Kepler-720': 1, 'Kepler-721': 1, 'Kepler-722': 2, 'Kepler-723': 1, 'Kepler-724': 1, 'Kepler-725': 1, 'Kepler-726': 1, 'Kepler-727': 1, 'Kepler-728': 1, 'Kepler-729': 1, 'Kepler-730': 2, 'Kepler-731': 1, 'Kepler-732': 2, 'Kepler-733': 1, 'Kepler-734': 1, 'Kepler-735': 1, 'Kepler-736': 1, 'Kepler-737': 1, 'Kepler-738': 1, 'Kepler-739': 1, 'Kepler-74': 1, 'Kepler-740': 1, 'Kepler-741': 1, 'Kepler-742': 1, 'Kepler-743': 1, 'Kepler-744': 1, 'Kepler-745': 1, 'Kepler-746': 1, 'Kepler-747': 1, 'Kepler-748': 1, 'Kepler-749': 1, 'Kepler-75': 1, 'Kepler-750': 2, 'Kepler-751': 1, 'Kepler-752': 1, 'Kepler-753': 1, 'Kepler-754': 1, 'Kepler-755': 2, 'Kepler-756': 1, 'Kepler-757': 1, 'Kepler-758': 4, 'Kepler-759': 1, 'Kepler-76': 1, 'Kepler-760': 2, 'Kepler-761': 1, 'Kepler-762': 1, 'Kepler-763': 1, 'Kepler-764': 1, 'Kepler-765': 1, 'Kepler-766': 1, 'Kepler-767': 1, 'Kepler-768': 1, 'Kepler-769': 2, 'Kepler-77': 1, 'Kepler-770': 3, 'Kepler-771': 1, 'Kepler-772': 1, 'Kepler-773': 1, 'Kepler-774': 1, 'Kepler-775': 1, 'Kepler-776': 1, 'Kepler-777': 1, 'Kepler-778': 1, 'Kepler-779': 1, 'Kepler-78': 1, 'Kepler-780': 1, 'Kepler-781': 1, 'Kepler-782': 1, 'Kepler-783': 2, 'Kepler-784': 1, 'Kepler-785': 1, 'Kepler-786': 1, 'Kepler-787': 1, 'Kepler-788': 1, 'Kepler-789': 1, 'Kepler-79': 4, 'Kepler-790': 1, 'Kepler-791': 1, 'Kepler-792': 1, 'Kepler-793': 1, 'Kepler-794': 1, 'Kepler-795': 1, 'Kepler-796': 1, 'Kepler-797': 1, 'Kepler-798': 1, 'Kepler-799': 1, 'Kepler-8': 1, 'Kepler-80': 6, 'Kepler-800': 1, 'Kepler-801': 1, 'Kepler-802': 1, 'Kepler-803': 1, 'Kepler-804': 2, 'Kepler-805': 1, 'Kepler-806': 1, 'Kepler-807': 1, 'Kepler-808': 1, 'Kepler-809': 1, 'Kepler-81': 3, 'Kepler-810': 1, 'Kepler-811': 1, 'Kepler-812': 1, 'Kepler-813': 1, 'Kepler-814': 1, 'Kepler-815': 1, 'Kepler-816': 1, 'Kepler-817': 1, 'Kepler-818': 1, 'Kepler-819': 1, 'Kepler-82': 5, 'Kepler-820': 1, 'Kepler-821': 1, 'Kepler-822': 1, 'Kepler-823': 1, 'Kepler-824': 1, 'Kepler-825': 2, 'Kepler-826': 1, 'Kepler-827': 1, 'Kepler-828': 1, 'Kepler-829': 1, 'Kepler-83': 3, 'Kepler-830': 1, 'Kepler-831': 1, 'Kepler-832': 1, 'Kepler-833': 1, 'Kepler-834': 1, 'Kepler-835': 1, 'Kepler-836': 1, 'Kepler-837': 1, 'Kepler-838': 1, 'Kepler-839': 1, 'Kepler-84': 5, 'Kepler-840': 1, 'Kepler-841': 1, 'Kepler-842': 1, 'Kepler-843': 1, 'Kepler-844': 1, 'Kepler-845': 1, 'Kepler-846': 1, 'Kepler-847': 1, 'Kepler-848': 1, 'Kepler-849': 1, 'Kepler-85': 4, 'Kepler-850': 1, 'Kepler-851': 1, 'Kepler-852': 1, 'Kepler-853': 1, 'Kepler-854': 1, 'Kepler-855': 1, 'Kepler-856': 1, 'Kepler-857': 1, 'Kepler-858': 1, 'Kepler-859': 1, 'Kepler-860': 1, 'Kepler-861': 1, 'Kepler-862': 1, 'Kepler-863': 1, 'Kepler-864': 1, 'Kepler-865': 1, 'Kepler-866': 1, 'Kepler-867': 1, 'Kepler-868': 1, 'Kepler-869': 1, 'Kepler-87': 2, 'Kepler-870': 1, 'Kepler-871': 1, 'Kepler-872': 1, 'Kepler-873': 1, 'Kepler-874': 1, 'Kepler-875': 1, 'Kepler-876': 1, 'Kepler-877': 1, 'Kepler-878': 1, 'Kepler-879': 1, 'KOI-142': 3, 'Kepler-880': 1, 'Kepler-881': 1, 'Kepler-882': 1, 'Kepler-883': 1, 'Kepler-884': 1, 'Kepler-885': 1, 'Kepler-886': 1, 'Kepler-887': 2, 'Kepler-888': 1, 'Kepler-889': 1, 'Kepler-890': 1, 'Kepler-891': 1, 'Kepler-892': 1, 'Kepler-893': 1, 'Kepler-894': 1, 'Kepler-895': 1, 'Kepler-896': 1, 'Kepler-897': 1, 'Kepler-898': 1, 'Kepler-899': 1, 'Kepler-9': 3, 'KOI-351': 8, 'Kepler-900': 1, 'Kepler-901': 1, 'Kepler-902': 1, 'Kepler-903': 2, 'Kepler-904': 1, 'Kepler-905': 1, 'Kepler-906': 1, 'Kepler-907': 1, 'Kepler-908': 1, 'Kepler-909': 1, 'Kepler-91': 1, 'Kepler-910': 1, 'Kepler-911': 1, 'Kepler-912': 1, 'Kepler-913': 1, 'Kepler-914': 1, 'Kepler-915': 1, 'Kepler-916': 1, 'Kepler-917': 1, 'Kepler-918': 1, 'Kepler-919': 1, 'Kepler-92': 3, 'Kepler-920': 2, 'Kepler-921': 1, 'Kepler-922': 1, 'Kepler-923': 1, 'Kepler-924': 1, 'Kepler-925': 1, 'Kepler-926': 1, 'Kepler-927': 1, 'Kepler-928': 1, 'Kepler-929': 1, 'Kepler-93': 2, 'Kepler-930': 1, 'Kepler-931': 1, 'Kepler-932': 1, 'Kepler-933': 1, 'Kepler-934': 1, 'Kepler-935': 1, 'Kepler-936': 1, 'Kepler-937': 2, 'Kepler-938': 1, 'Kepler-939': 1, 'Kepler-94': 2, 'Kepler-940': 1, 'Kepler-941': 1, 'Kepler-942': 1, 'Kepler-943': 1, 'Kepler-944': 1, 'Kepler-945': 1, 'Kepler-946': 1, 'Kepler-947': 1, 'Kepler-948': 1, 'Kepler-949': 1, 'Kepler-95': 1, 'Kepler-950': 1, 'Kepler-951': 1, 'Kepler-952': 1, 'Kepler-953': 2, 'Kepler-954': 1, 'Kepler-955': 1, 'Kepler-956': 1, 'Kepler-957': 1, 'Kepler-958': 1, 'Kepler-959': 1, 'Kepler-96': 1, 'Kepler-960': 1, 'Kepler-961': 1, 'Kepler-962': 1, 'Kepler-963': 1, 'Kepler-964': 1, 'Kepler-965': 1, 'Kepler-966': 1, 'Kepler-967': 2, 'Kepler-968': 2, 'Kepler-969': 2, 'Kepler-97': 2, 'Kepler-970': 1, 'Kepler-971': 1, 'Kepler-972': 1, 'Kepler-973': 1, 'Kepler-974': 1, 'Kepler-975': 1, 'Kepler-976': 1, 'Kepler-977': 1, 'Kepler-978': 1, 'Kepler-979': 1, 'Kepler-98': 1, 'Kepler-980': 1, 'Kepler-981': 1, 'Kepler-982': 1, 'Kepler-983': 1, 'Kepler-984': 1, 'Kepler-985': 1, 'Kepler-986': 1, 'Kepler-987': 1, 'Kepler-988': 1, 'Kepler-989': 1, 'Kepler-99': 1, 'Kepler-990': 2, 'Kepler-991': 1, 'Kepler-992': 1, 'Kepler-993': 1, 'Kepler-994': 1, 'Kepler-995': 1, 'Kepler-996': 1, 'Kepler-997': 1, 'Kepler-998': 1, 'Kepler-999': 1, 'KIC 10001893': 3, 'KIC 10525077': 1, 'KIC 3558849': 1, 'KIC 5095269': 1, 'KIC 5951458': 1, 'KIC 7917485': 1, 'KOI-7892': 2, 'KMT-2016-BLG-0212L': 1, 'KMT-2016-BLG-1107L': 1, 'KMT-2016-BLG-1397L': 1, 'KMT-2016-BLG-1820L': 1, 'KMT-2016-BLG-1836L': 1, 'KMT-2016-BLG-2142L': 1, 'KMT-2017-BLG-0165L': 1, 'KMT-2017-BLG-1038L': 1, 'KMT-2017-BLG-1146L': 1, 'KMT-2018-BLG-0029L': 1, 'KMT-2018-BLG-1292L': 1, 'KMT-2018-BLG-1990L': 1, 'KMT-2019-BLG-1339L': 1, 'KMT-2019-BLG-1953L': 1, 'KOI-1257': 1, 'KOI-13': 1, 'KOI-1599': 2, 'KOI-1783': 2, 'KOI-217': 1, 'KOI-3680': 1, 'KOI-55': 2, 'KOI-94': 4, 'KPS-1': 1, 'L 168-9': 1, 'L 98-59': 3, 'LHS 1140': 2, 'LHS 1815': 1, 'LHS 3844': 1, 'LkCa 15': 2, 'LP 791-18': 2, 'LSPM J2116+0234': 1, 'LTT 1445 A': 1, 'LTT 3780': 2, 'LTT 9779': 1, 'Lupus-TR-3': 1, 'MASCARA-1': 1, 'MASCARA-4': 1, 'MOA-2007-BLG-192L': 1, 'MOA-2007-BLG-400L': 1, 'MOA-2008-BLG-310L': 1, 'MOA-2008-BLG-379L': 1, 'MOA-2009-BLG-266L': 1, 'MOA-2009-BLG-319L': 1, 'MOA-2009-BLG-387L': 1, 'MOA-2010-BLG-073L': 1, 'MOA-2010-BLG-117L': 1, 'MOA-2010-BLG-328L': 1, 'MOA-2010-BLG-353L': 1, 'MOA-2010-BLG-477L': 1, 'MOA-2011-BLG-028L': 1, 'MOA-2011-BLG-262L': 1, 'MOA-2011-BLG-291L': 1, 'MOA-2011-BLG-293L': 1, 'MOA-2011-BLG-322L': 1, 'MOA-2012-BLG-006L': 1, 'MOA-2012-BLG-505L': 1, 'MOA-2013-BLG-605L': 1, 'MOA-2015-BLG-337L': 1, 'MOA-2016-BLG-227L': 1, 'MOA-2016-BLG-319L': 1, 'MOA-bin-1L': 1, 'MOA-bin-29': 1, 'mu Leo': 1, 'MXB 1658-298': 1, 'NGC 2682 Sand 364': 1, 'NGC 2682 Sand 978': 1, 'NGC 2682 YBP 1194': 1, 'NGC 2682 YBP 1514': 1, 'NGC 2682 YBP 401': 1, 'NGTS-1': 1, 'NGTS-10': 1, 'NGTS-11': 1, 'NGTS-2': 1, 'NGTS-3 A': 1, 'NGTS-4': 1, 'NGTS-5': 1, 'NGTS-6': 1, 'NGTS-8': 1, 'NGTS-9': 1, 'NN Ser': 2, 'NSVS 14256825': 1, 'nu Oph': 2, 'NY Vir': 2, 'OGLE-2003-BLG-235L': 1, 'OGLE-2005-BLG-071L': 1, 'OGLE-2005-BLG-169L': 1, 'OGLE-2005-BLG-390L': 1, 'OGLE-2006-BLG-109L': 2, 'OGLE-2007-BLG-349L A': 1, 'OGLE-2007-BLG-368L': 1, 'OGLE-2008-BLG-092L': 1, 'OGLE-2008-BLG-355L': 1, 'OGLE-2011-BLG-0173L': 1, 'OGLE-2011-BLG-0251L': 1, 'OGLE-2011-BLG-0265L': 1, 'OGLE-2012-BLG-0026L': 2, 'OGLE-2012-BLG-0358L': 1, 'OGLE-2012-BLG-0406L': 1, 'OGLE-2012-BLG-0563L': 1, 'OGLE-2012-BLG-0724L': 1, 'OGLE-2012-BLG-0838L': 1, 'OGLE-2012-BLG-0950L': 1, 'OGLE-2013-BLG-0102L': 1, 'OGLE-2013-BLG-0132L': 1, 'OGLE-2013-BLG-0341L B': 1, 'OGLE-2013-BLG-0911L': 1, 'OGLE-2013-BLG-1721L': 1, 'OGLE-2013-BLG-1761L': 1, 'OGLE-2014-BLG-0124L': 1, 'OGLE-2014-BLG-0676L': 1, 'OGLE-2014-BLG-1722L': 2, 'OGLE-2014-BLG-1760L': 1, 'OGLE-2015-BLG-0051L': 1, 'OGLE-2015-BLG-0954L': 1, 'OGLE-2015-BLG-0966L': 1, 'OGLE-2015-BLG-1649L': 1, 'OGLE-2015-BLG-1670L': 1, 'OGLE-2015-BLG-1771L': 1, 'OGLE-2016-BLG-0263L': 1, 'OGLE-2016-BLG-0613L AB': 1, 'OGLE-2016-BLG-1067L': 1, 'OGLE-2016-BLG-1190L': 1, 'OGLE-2016-BLG-1195L': 1, 'OGLE-2016-BLG-1227L': 1, 'OGLE-2017-BLG-0173L': 1, 'OGLE-2017-BLG-0373L': 1, 'OGLE-2017-BLG-0406L': 1, 'OGLE-2017-BLG-0482L': 1, 'OGLE-2017-BLG-1140L': 1, 'OGLE-2017-BLG-1434L': 1, 'OGLE-2017-BLG-1522L': 1, 'OGLE-2018-BLG-0596L': 1, 'OGLE-2018-BLG-0677L': 1, 'OGLE-2018-BLG-0740L': 1, 'OGLE-2018-BLG-1011L': 2, 'OGLE-2018-BLG-1700L': 1, 'OGLE-TR-10': 1, 'OGLE-TR-111': 1, 'OGLE-TR-113': 1, 'OGLE-TR-132': 1, 'OGLE-TR-182': 1, 'OGLE-TR-211': 1, 'OGLE-TR-56': 1, 'OGLE2-TR-L9': 1, 'ome Ser': 1, 'omi CrB': 1, 'omi UMa': 1, 'Oph 11': 1, 'PDS 70': 2, 'PH1': 1, 'PH2': 1, 'POTS-1': 1, 'Pr0201': 1, 'Pr0211': 2, 'Proxima Cen': 1, 'psi 1 Dra B': 1, 'PSR B0329+54': 1, 'PSR B1257+12': 3, 'PSR B1620-26': 1, 'PSR J1719-1438': 1, 'PSR J2322-2650': 1, 'Qatar-1': 1, 'Qatar-10': 1, 'Qatar-2': 1, 'Qatar-3': 1, 'Qatar-4': 1, 'Qatar-5': 1, 'Qatar-6': 1, 'Qatar-7': 1, 'Qatar-8': 1, 'Qatar-9': 1, 'rho CrB': 2, 'Ross 128': 1, 'Ross 458': 1, 'ROXs 12': 1, 'ROXs 42 B': 1, 'RR Cae': 1, 'SR 12 AB': 1, 'SWEEPS-11': 1, 'SWEEPS-4': 1, 'TAP 26': 1, 'tau Boo': 1, 'tau Cet': 4, 'tau Gem': 1, 'TCP J05074264+2447555': 1, \"Teegarden's Star\": 2, 'TOI-1130': 2, 'TOI-1235': 1, 'TOI-125': 3, 'TOI-132': 1, 'TOI-1338': 1, 'TOI-150': 1, 'TOI-157': 1, 'TOI-163': 1, 'TOI-169': 1, 'TOI-172': 1, 'TOI-1728': 1, 'TOI-1899': 1, 'TOI-216': 2, 'TOI-270': 3, 'TOI-677': 1, 'TOI-700': 3, 'TOI-763': 2, 'TOI-813': 1, 'TOI-824': 1, 'TOI-849': 1, 'TRAPPIST-1': 7, 'TrES-1': 1, 'TrES-2': 1, 'TrES-3': 1, 'TrES-4': 1, 'TrES-5': 1, 'TYC 1422-614-1': 2, 'TYC 3318-01333-1': 1, 'TYC 3667-1280-1': 1, 'TYC 4282-00605-1': 1, 'TYC 8998-760-1': 2, 'UKIRT-2017-BLG-001L': 1, 'ups And': 3, 'USco CTIO 108': 1, 'USco1556 A': 1, 'USco1621 A': 1, 'UZ For': 2, 'V0391 Peg': 1, 'V1298 Tau': 4, 'V830 Tau': 1, 'VHS J125601.92-125723.9': 1, 'WASP-1': 1, 'WASP-10': 1, 'WASP-100': 1, 'WASP-101': 1, 'WASP-103': 1, 'WASP-104': 1, 'WASP-105': 1, 'WASP-106': 1, 'WASP-107': 1, 'WASP-11': 1, 'WASP-113': 1, 'WASP-114': 1, 'WASP-117': 1, 'WASP-118': 1, 'WASP-119': 1, 'WASP-12': 1, 'WASP-120': 1, 'WASP-121': 1, 'WASP-123': 1, 'WASP-124': 1, 'WASP-126': 2, 'WASP-127': 1, 'WASP-129': 1, 'WASP-13': 1, 'WASP-130': 1, 'WASP-131': 1, 'WASP-132': 1, 'WASP-133': 1, 'WASP-135': 1, 'WASP-136': 1, 'WASP-138': 1, 'WASP-139': 1, 'WASP-14': 1, 'WASP-140': 1, 'WASP-141': 1, 'WASP-142': 1, 'WASP-144': 1, 'WASP-145 A': 1, 'WASP-147': 1, 'WASP-148': 2, 'WASP-15': 1, 'WASP-150': 1, 'WASP-151': 1, 'WASP-153': 1, 'WASP-156': 1, 'WASP-157': 1, 'WASP-158': 1, 'WASP-159': 1, 'WASP-16': 1, 'WASP-160 B': 1, 'WASP-161': 1, 'WASP-162': 1, 'WASP-163': 1, 'WASP-164': 1, 'WASP-165': 1, 'WASP-166': 1, 'WASP-167': 1, 'WASP-168': 1, 'WASP-169': 1, 'WASP-17': 1, 'WASP-170': 1, 'WASP-171': 1, 'WASP-172': 1, 'WASP-173 A': 1, 'WASP-174': 1, 'WASP-175': 1, 'WASP-176': 1, 'WASP-177': 1, 'WASP-178': 1, 'WASP-18': 2, 'WASP-180 A': 1, 'WASP-181': 1, 'WASP-182': 1, 'WASP-183': 1, 'WASP-184': 1, 'WASP-185': 1, 'WASP-19': 1, 'WASP-190': 1, 'WASP-192': 1, 'WASP-2': 1, 'WASP-20': 1, 'WASP-21': 1, 'WASP-22': 1, 'WASP-23': 1, 'WASP-24': 1, 'WASP-25': 1, 'WASP-26': 1, 'WASP-28': 1, 'WASP-29': 1, 'WASP-3': 1, 'WASP-31': 1, 'WASP-32': 1, 'WASP-33': 1, 'WASP-34': 1, 'WASP-35': 1, 'WASP-36': 1, 'WASP-37': 1, 'WASP-38': 1, 'WASP-39': 1, 'WASP-4': 1, 'WASP-41': 2, 'WASP-42': 1, 'WASP-43': 1, 'WASP-44': 1, 'WASP-45': 1, 'WASP-46': 1, 'WASP-47': 4, 'WASP-48': 1, 'WASP-49': 1, 'WASP-5': 1, 'WASP-50': 1, 'WASP-52': 1, 'WASP-53': 2, 'WASP-54': 1, 'WASP-55': 1, 'WASP-56': 1, 'WASP-57': 1, 'WASP-58': 1, 'WASP-59': 1, 'WASP-6': 1, 'WASP-60': 1, 'WASP-61': 1, 'WASP-62': 1, 'WASP-63': 1, 'WASP-64': 1, 'WASP-65': 1, 'WASP-66': 1, 'WASP-67': 1, 'WASP-68': 1, 'WASP-69': 1, 'WASP-7': 1, 'WASP-70 A': 1, 'WASP-71': 1, 'WASP-72': 1, 'WASP-73': 1, 'WASP-74': 1, 'WASP-75': 1, 'WASP-76': 1, 'WASP-77 A': 1, 'WASP-78': 1, 'WASP-79': 1, 'WASP-8': 2, 'WASP-80': 1, 'WASP-81': 1, 'WASP-82': 1, 'WASP-83': 1, 'WASP-84': 1, 'WASP-85 A': 1, 'WASP-87': 1, 'WASP-88': 1, 'WASP-89': 1, 'WASP-90': 1, 'WASP-91': 1, 'WASP-92': 1, 'WASP-93': 1, 'WASP-94 A': 1, 'WASP-94 B': 1, 'WASP-95': 1, 'WASP-96': 1, 'WASP-97': 1, 'WASP-98': 1, 'WASP-99': 1, 'WD 0806-661': 1, 'WD 1856+534': 1, 'Wendelstein-1': 1, 'Wendelstein-2': 1, 'WISEP J121756.91+162640.2 A': 1, 'Wolf 1061': 3, 'Wolf 503': 1, 'WTS-1': 1, 'WTS-2': 1, 'xi Aql': 1, 'XO-1': 1, 'XO-2 N': 1, 'XO-2 S': 2, 'XO-3': 1, 'XO-4': 1, 'XO-5': 1, 'XO-6': 1, 'XO-7': 1, 'YZ Cet': 3}\n"
          ]
        }
      ]
    },
    {
      "cell_type": "code",
      "source": [
        "max_solar_system=max(solar_system_planet_count,key=solar_system_planet_count.get)\n",
        "print(\"solars system name with maximum planets:\", max_solar_system)\n",
        "print(\"number of planets:\",solar_system_planet_count[max_solar_system])"
      ],
      "metadata": {
        "id": "jMHI4w1G3tc7",
        "outputId": "b9ad27f8-a741-4e7a-c131-457184295365",
        "colab": {
          "base_uri": "https://localhost:8080/"
        }
      },
      "execution_count": null,
      "outputs": [
        {
          "output_type": "stream",
          "name": "stdout",
          "text": [
            "solars system name with maximum planets: KOI-351\n",
            "number of planets: 8\n"
          ]
        }
      ]
    },
    {
      "cell_type": "markdown",
      "metadata": {
        "id": "HkyQX3pMj09u"
      },
      "source": [
        "Now let's just write the code to read the CSV"
      ]
    },
    {
      "cell_type": "markdown",
      "metadata": {
        "id": "o4XDodsk-7ZC"
      },
      "source": [
        "Now let's find the number of planets in each of the solar system!"
      ]
    },
    {
      "cell_type": "markdown",
      "metadata": {
        "id": "h1lPr3kij09v"
      },
      "source": [
        "##Our Next Planet Home?\n",
        "\n",
        "Solar system **KOI-351** has **8** planets! \n",
        "\n",
        "Could this be our next home? \n",
        "\n",
        "Let's create a list of all the planets in this solar system so we can take a deeper look at it!"
      ]
    },
    {
      "cell_type": "code",
      "source": [
        "temp_planet_data_rows=list(planet_data_rows)\n",
        "for planet_data in temp_planet_data_rows:\n",
        "  planet_mass=planet_data[3]\n",
        "  if planet_mass.lower()==\"unknown\":\n",
        "    planet_data_rows.remove(planet_data)\n",
        "    continue\n",
        "  else:\n",
        "    planet_mass_value=planet_mass.split(\" \")[0]\n",
        "    planet_mass_ref=planet_mass.split(\" \")[1]\n",
        "    if planet_mass_ref == \"Jupiters\":\n",
        "      planet_mass_value=float(planet_mass_value)*317.8\n",
        "    planet_data[3]=planet_mass_value\n",
        "  \n",
        "  planet_radius=planet_data[7]\n",
        "  if planet_radius.lower()==\"unknown\":\n",
        "    planet_data_rows.remove(planet_data)\n",
        "    continue\n",
        "  else:\n",
        "    planet_radius_value=planet_radius.split(\" \")[0]\n",
        "    planet_radius_ref=planet_radius.split(\" \")[2]\n",
        "    if planet_radius_ref == \"Jupiter\":\n",
        "      planet_radius_value=float(planet_radius_value)*11.2\n",
        "    planet_data[7]=planet_radius_value\n",
        "\n",
        "print(len(planet_data_rows))\n",
        "koi_351_planets=[]\n",
        "for planet_data in planet_data_rows:\n",
        "  if max_solar_system== planet_data[11]:\n",
        "    koi_351_planets.append(planet_data)\n",
        "print(len(koi_351_planets))\n",
        "print(koi_351_planets)\n",
        "    "
      ],
      "metadata": {
        "id": "zN3e4jiA4dFc",
        "outputId": "153c41f6-06c2-43ce-b5fc-80e53c5fa6f6",
        "colab": {
          "base_uri": "https://localhost:8080/"
        }
      },
      "execution_count": null,
      "outputs": [
        {
          "output_type": "stream",
          "name": "stdout",
          "text": [
            "4251\n",
            "7\n",
            "[['3665', 'Kepler-903 b', '2704', '4.7', '14.615', '2016', 'Super Earth', '2.01', 'Unknown', '10.4 days', '0', 'KOI-351', 'Transit', '89.2', '', '18h57m44.04s', '+49d18m18.6s', '6080', '1.2', '1.2'], ['3824', 'KOI-142 b', '1106', '9.5', '13.11', '2013', 'Neptune-like', 3.4383999999999997, 'Unknown', '10.9 days', '0.06', 'KOI-351', 'Transit', '89.4', '', '18h57m44.04s', '+49d18m18.6s', '6080', '1.2', '1.2'], ['3825', 'KOI-142 c', '1106', 214.1972, '13.11', '2013', 'Gas Giant', 14.0, '0.15525 AU', '22.3 days', '0.06', 'KOI-351', 'Transit', '89.68', '', '18h57m44.04s', '+49d18m18.6s', '6080', '1.2', '1.2'], ['3826', 'KOI-1599.01', '3813', '4.6', '14.854', '2019', 'Super Earth', '1.9', '0.14728 AU', '20.4 days', '0.01', 'KOI-351', 'Transit', '89.71', '', '18h57m44.04s', '+49d18m18.6s', '6080', '1.2', '1.2'], ['3827', 'KOI-1599.02', '3813', '9', '14.854', '2019', 'Super Earth', '1.9', '0.112293 AU', '13.6 days', '0.01', 'KOI-351', 'Transit', '89.79', '', '18h57m44.04s', '+49d18m18.6s', '6080', '1.2', '1.2'], ['3828', 'KOI-1783.01', '2896', 70.993342, '13.906', '2020', 'Gas Giant', 8.847999999999999, 'Unknown', '134.5 days', '0', 'KOI-351', 'Transit', '89.77', '', '18h57m44.04s', '+49d18m18.6s', '6080', '1.2', '1.2'], ['3829', 'KOI-1783.02', '2896', '15', '13.906', '2020', 'Neptune-like', 5.4319999999999995, 'Unknown', '284.2 days', '0', 'KOI-351', 'Transit', '89.8', '', '18h57m44.04s', '+49d18m18.6s', '6080', '1.2', '1.2']]\n"
          ]
        }
      ]
    },
    {
      "cell_type": "markdown",
      "metadata": {
        "id": "7iFNHZd3j09v"
      },
      "source": [
        "Great, now let's plot a bar chart on the planet_mass column with these 6 planet data -"
      ]
    },
    {
      "cell_type": "markdown",
      "metadata": {
        "id": "p9qNL031j09v"
      },
      "source": [
        "## Fun Fact\n",
        "\n",
        "Now before we proceed, let's learn a fun fact -\n",
        "\n",
        "The great scientist **Albert Einstein** derived a formula with which we can calculate the gravity of any planet.\n",
        "\n",
        "The formula is this -\n",
        "\n",
        "\n",
        "<img src='https://s3-whjr-curriculum-uploads.whjr.online/6019d9d9-5f2f-4b39-b752-32ac5a9bc046.png' width='150'>\n",
        "\n",
        "Here,\n",
        "\n",
        "* **G** is a **gravitational constant**, which means that it will always be the same.\n",
        "\n",
        "* **m** is the **mass of Earth** (or any other planet if we are calculating it for another planet)\n",
        "\n",
        "* **r** is the **radius of the planet**\n",
        "\n",
        "Here, we can see an inverse relation between the the radius of the planet and the gravity. \n",
        "\n",
        "<img src='https://s3-whjr-curriculum-uploads.whjr.online/b075ced0-0ac3-4432-af07-cec0a08cf190.png' width='150'>\n",
        "\n",
        "**The more the radius (and bigger the planet), the lesser would be gravity.**\n",
        "\n",
        "But then, we also see a direct relation between the mass of the planet and the gravity. \n",
        "\n",
        "<img src='https://s3-whjr-curriculum-uploads.whjr.online/2351f2d9-eed5-491e-9646-612d762b13be.png' width='150'>\n",
        "\n",
        "**The more the mass of the planet, the more will be the gravity.**\n",
        "\n",
        "Our **Earth’s gravity is $9.8 m/s^2$**, and we as humans are accustomed to it. In order for us to exist on any other planet, the gravity should be close to what we have here.\n",
        "\n",
        "\n",
        "**Mars** has a gravity of **$3.711 m/s^2$** and **Moon** has a gravity of **$1.62 m/s^2$**."
      ]
    },
    {
      "cell_type": "markdown",
      "metadata": {
        "id": "M2Pdj5kBj09v"
      },
      "source": [
        "## Scatter plot\n",
        "\n",
        "Given what we have just learnt, let’s try to plot a scatter plot for all the planets, where we will keep the mass of the planet as the Y-Coordinate, The Radius of the Planet as X-Coordinate, and the size of the blob as the gravity of it. Let’s see if we can find anything interesting!\n",
        "\n",
        "The value of **G** (Gravitational Constant) is **6.674e-11***\n",
        "\n",
        "**Mass of Earth = 5.972e+24**\n",
        "\n",
        "**Radius of Earth = 6371000**\n",
        "\n",
        "**Note** - Since we have the ***planet_mass*** and ***planet_radius*** with Reference to Earth, don’t forget to multiple the mass of the earth and the radius of the earth with these values!"
      ]
    },
    {
      "cell_type": "code",
      "source": [
        "import plotly.express as px\n",
        "koi_351_planet_masses=[]\n",
        "koi_351_planet_names=[]\n",
        "\n",
        "for planet_data in koi_351_planets:\n",
        "  koi_351_planet_masses.append(planet_data[3])\n",
        "  koi_351_planet_names.append(planet_data[1])\n",
        "\n",
        "koi_351_planet_masses.append(1)\n",
        "koi_351_planet_names.append(\"Earth\")\n",
        "fig= px.bar(x=koi_351_planet_names, y=koi_351_planet_masses)\n",
        "fig.show()"
      ],
      "metadata": {
        "id": "JsPIssER7S47",
        "outputId": "33715df6-8f4d-458b-e126-1aa325048162",
        "colab": {
          "base_uri": "https://localhost:8080/",
          "height": 542
        }
      },
      "execution_count": null,
      "outputs": [
        {
          "output_type": "display_data",
          "data": {
            "text/html": [
              "<html>\n",
              "<head><meta charset=\"utf-8\" /></head>\n",
              "<body>\n",
              "    <div>            <script src=\"https://cdnjs.cloudflare.com/ajax/libs/mathjax/2.7.5/MathJax.js?config=TeX-AMS-MML_SVG\"></script><script type=\"text/javascript\">if (window.MathJax && window.MathJax.Hub && window.MathJax.Hub.Config) {window.MathJax.Hub.Config({SVG: {font: \"STIX-Web\"}});}</script>                <script type=\"text/javascript\">window.PlotlyConfig = {MathJaxConfig: 'local'};</script>\n",
              "        <script src=\"https://cdn.plot.ly/plotly-2.18.2.min.js\"></script>                <div id=\"bc224e0a-ead6-4cba-b8e7-150baf93a315\" class=\"plotly-graph-div\" style=\"height:525px; width:100%;\"></div>            <script type=\"text/javascript\">                                    window.PLOTLYENV=window.PLOTLYENV || {};                                    if (document.getElementById(\"bc224e0a-ead6-4cba-b8e7-150baf93a315\")) {                    Plotly.newPlot(                        \"bc224e0a-ead6-4cba-b8e7-150baf93a315\",                        [{\"alignmentgroup\":\"True\",\"hovertemplate\":\"x=%{x}<br>y=%{y}<extra></extra>\",\"legendgroup\":\"\",\"marker\":{\"color\":\"#636efa\",\"pattern\":{\"shape\":\"\"}},\"name\":\"\",\"offsetgroup\":\"\",\"orientation\":\"v\",\"showlegend\":false,\"textposition\":\"auto\",\"x\":[\"Kepler-903 b\",\"KOI-142 b\",\"KOI-142 c\",\"KOI-1599.01\",\"KOI-1599.02\",\"KOI-1783.01\",\"KOI-1783.02\",\"Earth\"],\"xaxis\":\"x\",\"y\":[\"4.7\",\"9.5\",214.1972,\"4.6\",\"9\",70.993342,\"15\",1],\"yaxis\":\"y\",\"type\":\"bar\"}],                        {\"template\":{\"data\":{\"histogram2dcontour\":[{\"type\":\"histogram2dcontour\",\"colorbar\":{\"outlinewidth\":0,\"ticks\":\"\"},\"colorscale\":[[0.0,\"#0d0887\"],[0.1111111111111111,\"#46039f\"],[0.2222222222222222,\"#7201a8\"],[0.3333333333333333,\"#9c179e\"],[0.4444444444444444,\"#bd3786\"],[0.5555555555555556,\"#d8576b\"],[0.6666666666666666,\"#ed7953\"],[0.7777777777777778,\"#fb9f3a\"],[0.8888888888888888,\"#fdca26\"],[1.0,\"#f0f921\"]]}],\"choropleth\":[{\"type\":\"choropleth\",\"colorbar\":{\"outlinewidth\":0,\"ticks\":\"\"}}],\"histogram2d\":[{\"type\":\"histogram2d\",\"colorbar\":{\"outlinewidth\":0,\"ticks\":\"\"},\"colorscale\":[[0.0,\"#0d0887\"],[0.1111111111111111,\"#46039f\"],[0.2222222222222222,\"#7201a8\"],[0.3333333333333333,\"#9c179e\"],[0.4444444444444444,\"#bd3786\"],[0.5555555555555556,\"#d8576b\"],[0.6666666666666666,\"#ed7953\"],[0.7777777777777778,\"#fb9f3a\"],[0.8888888888888888,\"#fdca26\"],[1.0,\"#f0f921\"]]}],\"heatmap\":[{\"type\":\"heatmap\",\"colorbar\":{\"outlinewidth\":0,\"ticks\":\"\"},\"colorscale\":[[0.0,\"#0d0887\"],[0.1111111111111111,\"#46039f\"],[0.2222222222222222,\"#7201a8\"],[0.3333333333333333,\"#9c179e\"],[0.4444444444444444,\"#bd3786\"],[0.5555555555555556,\"#d8576b\"],[0.6666666666666666,\"#ed7953\"],[0.7777777777777778,\"#fb9f3a\"],[0.8888888888888888,\"#fdca26\"],[1.0,\"#f0f921\"]]}],\"heatmapgl\":[{\"type\":\"heatmapgl\",\"colorbar\":{\"outlinewidth\":0,\"ticks\":\"\"},\"colorscale\":[[0.0,\"#0d0887\"],[0.1111111111111111,\"#46039f\"],[0.2222222222222222,\"#7201a8\"],[0.3333333333333333,\"#9c179e\"],[0.4444444444444444,\"#bd3786\"],[0.5555555555555556,\"#d8576b\"],[0.6666666666666666,\"#ed7953\"],[0.7777777777777778,\"#fb9f3a\"],[0.8888888888888888,\"#fdca26\"],[1.0,\"#f0f921\"]]}],\"contourcarpet\":[{\"type\":\"contourcarpet\",\"colorbar\":{\"outlinewidth\":0,\"ticks\":\"\"}}],\"contour\":[{\"type\":\"contour\",\"colorbar\":{\"outlinewidth\":0,\"ticks\":\"\"},\"colorscale\":[[0.0,\"#0d0887\"],[0.1111111111111111,\"#46039f\"],[0.2222222222222222,\"#7201a8\"],[0.3333333333333333,\"#9c179e\"],[0.4444444444444444,\"#bd3786\"],[0.5555555555555556,\"#d8576b\"],[0.6666666666666666,\"#ed7953\"],[0.7777777777777778,\"#fb9f3a\"],[0.8888888888888888,\"#fdca26\"],[1.0,\"#f0f921\"]]}],\"surface\":[{\"type\":\"surface\",\"colorbar\":{\"outlinewidth\":0,\"ticks\":\"\"},\"colorscale\":[[0.0,\"#0d0887\"],[0.1111111111111111,\"#46039f\"],[0.2222222222222222,\"#7201a8\"],[0.3333333333333333,\"#9c179e\"],[0.4444444444444444,\"#bd3786\"],[0.5555555555555556,\"#d8576b\"],[0.6666666666666666,\"#ed7953\"],[0.7777777777777778,\"#fb9f3a\"],[0.8888888888888888,\"#fdca26\"],[1.0,\"#f0f921\"]]}],\"mesh3d\":[{\"type\":\"mesh3d\",\"colorbar\":{\"outlinewidth\":0,\"ticks\":\"\"}}],\"scatter\":[{\"fillpattern\":{\"fillmode\":\"overlay\",\"size\":10,\"solidity\":0.2},\"type\":\"scatter\"}],\"parcoords\":[{\"type\":\"parcoords\",\"line\":{\"colorbar\":{\"outlinewidth\":0,\"ticks\":\"\"}}}],\"scatterpolargl\":[{\"type\":\"scatterpolargl\",\"marker\":{\"colorbar\":{\"outlinewidth\":0,\"ticks\":\"\"}}}],\"bar\":[{\"error_x\":{\"color\":\"#2a3f5f\"},\"error_y\":{\"color\":\"#2a3f5f\"},\"marker\":{\"line\":{\"color\":\"#E5ECF6\",\"width\":0.5},\"pattern\":{\"fillmode\":\"overlay\",\"size\":10,\"solidity\":0.2}},\"type\":\"bar\"}],\"scattergeo\":[{\"type\":\"scattergeo\",\"marker\":{\"colorbar\":{\"outlinewidth\":0,\"ticks\":\"\"}}}],\"scatterpolar\":[{\"type\":\"scatterpolar\",\"marker\":{\"colorbar\":{\"outlinewidth\":0,\"ticks\":\"\"}}}],\"histogram\":[{\"marker\":{\"pattern\":{\"fillmode\":\"overlay\",\"size\":10,\"solidity\":0.2}},\"type\":\"histogram\"}],\"scattergl\":[{\"type\":\"scattergl\",\"marker\":{\"colorbar\":{\"outlinewidth\":0,\"ticks\":\"\"}}}],\"scatter3d\":[{\"type\":\"scatter3d\",\"line\":{\"colorbar\":{\"outlinewidth\":0,\"ticks\":\"\"}},\"marker\":{\"colorbar\":{\"outlinewidth\":0,\"ticks\":\"\"}}}],\"scattermapbox\":[{\"type\":\"scattermapbox\",\"marker\":{\"colorbar\":{\"outlinewidth\":0,\"ticks\":\"\"}}}],\"scatterternary\":[{\"type\":\"scatterternary\",\"marker\":{\"colorbar\":{\"outlinewidth\":0,\"ticks\":\"\"}}}],\"scattercarpet\":[{\"type\":\"scattercarpet\",\"marker\":{\"colorbar\":{\"outlinewidth\":0,\"ticks\":\"\"}}}],\"carpet\":[{\"aaxis\":{\"endlinecolor\":\"#2a3f5f\",\"gridcolor\":\"white\",\"linecolor\":\"white\",\"minorgridcolor\":\"white\",\"startlinecolor\":\"#2a3f5f\"},\"baxis\":{\"endlinecolor\":\"#2a3f5f\",\"gridcolor\":\"white\",\"linecolor\":\"white\",\"minorgridcolor\":\"white\",\"startlinecolor\":\"#2a3f5f\"},\"type\":\"carpet\"}],\"table\":[{\"cells\":{\"fill\":{\"color\":\"#EBF0F8\"},\"line\":{\"color\":\"white\"}},\"header\":{\"fill\":{\"color\":\"#C8D4E3\"},\"line\":{\"color\":\"white\"}},\"type\":\"table\"}],\"barpolar\":[{\"marker\":{\"line\":{\"color\":\"#E5ECF6\",\"width\":0.5},\"pattern\":{\"fillmode\":\"overlay\",\"size\":10,\"solidity\":0.2}},\"type\":\"barpolar\"}],\"pie\":[{\"automargin\":true,\"type\":\"pie\"}]},\"layout\":{\"autotypenumbers\":\"strict\",\"colorway\":[\"#636efa\",\"#EF553B\",\"#00cc96\",\"#ab63fa\",\"#FFA15A\",\"#19d3f3\",\"#FF6692\",\"#B6E880\",\"#FF97FF\",\"#FECB52\"],\"font\":{\"color\":\"#2a3f5f\"},\"hovermode\":\"closest\",\"hoverlabel\":{\"align\":\"left\"},\"paper_bgcolor\":\"white\",\"plot_bgcolor\":\"#E5ECF6\",\"polar\":{\"bgcolor\":\"#E5ECF6\",\"angularaxis\":{\"gridcolor\":\"white\",\"linecolor\":\"white\",\"ticks\":\"\"},\"radialaxis\":{\"gridcolor\":\"white\",\"linecolor\":\"white\",\"ticks\":\"\"}},\"ternary\":{\"bgcolor\":\"#E5ECF6\",\"aaxis\":{\"gridcolor\":\"white\",\"linecolor\":\"white\",\"ticks\":\"\"},\"baxis\":{\"gridcolor\":\"white\",\"linecolor\":\"white\",\"ticks\":\"\"},\"caxis\":{\"gridcolor\":\"white\",\"linecolor\":\"white\",\"ticks\":\"\"}},\"coloraxis\":{\"colorbar\":{\"outlinewidth\":0,\"ticks\":\"\"}},\"colorscale\":{\"sequential\":[[0.0,\"#0d0887\"],[0.1111111111111111,\"#46039f\"],[0.2222222222222222,\"#7201a8\"],[0.3333333333333333,\"#9c179e\"],[0.4444444444444444,\"#bd3786\"],[0.5555555555555556,\"#d8576b\"],[0.6666666666666666,\"#ed7953\"],[0.7777777777777778,\"#fb9f3a\"],[0.8888888888888888,\"#fdca26\"],[1.0,\"#f0f921\"]],\"sequentialminus\":[[0.0,\"#0d0887\"],[0.1111111111111111,\"#46039f\"],[0.2222222222222222,\"#7201a8\"],[0.3333333333333333,\"#9c179e\"],[0.4444444444444444,\"#bd3786\"],[0.5555555555555556,\"#d8576b\"],[0.6666666666666666,\"#ed7953\"],[0.7777777777777778,\"#fb9f3a\"],[0.8888888888888888,\"#fdca26\"],[1.0,\"#f0f921\"]],\"diverging\":[[0,\"#8e0152\"],[0.1,\"#c51b7d\"],[0.2,\"#de77ae\"],[0.3,\"#f1b6da\"],[0.4,\"#fde0ef\"],[0.5,\"#f7f7f7\"],[0.6,\"#e6f5d0\"],[0.7,\"#b8e186\"],[0.8,\"#7fbc41\"],[0.9,\"#4d9221\"],[1,\"#276419\"]]},\"xaxis\":{\"gridcolor\":\"white\",\"linecolor\":\"white\",\"ticks\":\"\",\"title\":{\"standoff\":15},\"zerolinecolor\":\"white\",\"automargin\":true,\"zerolinewidth\":2},\"yaxis\":{\"gridcolor\":\"white\",\"linecolor\":\"white\",\"ticks\":\"\",\"title\":{\"standoff\":15},\"zerolinecolor\":\"white\",\"automargin\":true,\"zerolinewidth\":2},\"scene\":{\"xaxis\":{\"backgroundcolor\":\"#E5ECF6\",\"gridcolor\":\"white\",\"linecolor\":\"white\",\"showbackground\":true,\"ticks\":\"\",\"zerolinecolor\":\"white\",\"gridwidth\":2},\"yaxis\":{\"backgroundcolor\":\"#E5ECF6\",\"gridcolor\":\"white\",\"linecolor\":\"white\",\"showbackground\":true,\"ticks\":\"\",\"zerolinecolor\":\"white\",\"gridwidth\":2},\"zaxis\":{\"backgroundcolor\":\"#E5ECF6\",\"gridcolor\":\"white\",\"linecolor\":\"white\",\"showbackground\":true,\"ticks\":\"\",\"zerolinecolor\":\"white\",\"gridwidth\":2}},\"shapedefaults\":{\"line\":{\"color\":\"#2a3f5f\"}},\"annotationdefaults\":{\"arrowcolor\":\"#2a3f5f\",\"arrowhead\":0,\"arrowwidth\":1},\"geo\":{\"bgcolor\":\"white\",\"landcolor\":\"#E5ECF6\",\"subunitcolor\":\"white\",\"showland\":true,\"showlakes\":true,\"lakecolor\":\"white\"},\"title\":{\"x\":0.05},\"mapbox\":{\"style\":\"light\"}}},\"xaxis\":{\"anchor\":\"y\",\"domain\":[0.0,1.0],\"title\":{\"text\":\"x\"}},\"yaxis\":{\"anchor\":\"x\",\"domain\":[0.0,1.0],\"title\":{\"text\":\"y\"}},\"legend\":{\"tracegroupgap\":0},\"margin\":{\"t\":60},\"barmode\":\"relative\"},                        {\"responsive\": true}                    ).then(function(){\n",
              "                            \n",
              "var gd = document.getElementById('bc224e0a-ead6-4cba-b8e7-150baf93a315');\n",
              "var x = new MutationObserver(function (mutations, observer) {{\n",
              "        var display = window.getComputedStyle(gd).display;\n",
              "        if (!display || display === 'none') {{\n",
              "            console.log([gd, 'removed!']);\n",
              "            Plotly.purge(gd);\n",
              "            observer.disconnect();\n",
              "        }}\n",
              "}});\n",
              "\n",
              "// Listen for the removal of the full notebook cells\n",
              "var notebookContainer = gd.closest('#notebook-container');\n",
              "if (notebookContainer) {{\n",
              "    x.observe(notebookContainer, {childList: true});\n",
              "}}\n",
              "\n",
              "// Listen for the clearing of the current output cell\n",
              "var outputEl = gd.closest('.output');\n",
              "if (outputEl) {{\n",
              "    x.observe(outputEl, {childList: true});\n",
              "}}\n",
              "\n",
              "                        })                };                            </script>        </div>\n",
              "</body>\n",
              "</html>"
            ]
          },
          "metadata": {}
        }
      ]
    },
    {
      "cell_type": "markdown",
      "metadata": {
        "id": "6XJH_jD8j09w"
      },
      "source": [
        "## Fun Fact \n",
        "\n",
        "**Our standing human bodies can withstand a gravitational force 90 times stronger than earth!**\n",
        "\n",
        "\n"
      ]
    },
    {
      "cell_type": "markdown",
      "source": [
        "## Habitable Gravity Planets\n",
        "\n",
        "Although that is going to be a bit extreme, we can still survive at 10 times the gravity we have at Earth. \n",
        "\n",
        "Let’s list down all the names of the planets that have Gravity of 100 or less!"
      ],
      "metadata": {
        "id": "_u7m8Az8dhTx"
      }
    },
    {
      "cell_type": "code",
      "metadata": {
        "id": "2EWlScdwS3Xn"
      },
      "source": [
        "#low gravity planets\n"
      ],
      "execution_count": null,
      "outputs": []
    }
  ]
}